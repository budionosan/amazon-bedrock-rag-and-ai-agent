{
  "cells": [
    {
      "cell_type": "markdown",
      "source": [
        "**RAG (Retrieval Augmented Generation) using Pinecone, Amazon Titan Embeddings, Amazon Nova Lite and Langchain**\n",
        "\n",
        "Use case : Financial Customer Service"
      ],
      "metadata": {
        "id": "gPJd4s7wtf3b"
      }
    },
    {
      "cell_type": "code",
      "execution_count": null,
      "metadata": {
        "colab": {
          "base_uri": "https://localhost:8080/",
          "height": 1000
        },
        "id": "2FFQcpsPbDx3",
        "outputId": "d58f99e6-8a36-4875-b208-b3711ae9715d",
        "collapsed": true
      },
      "outputs": [
        {
          "output_type": "stream",
          "name": "stdout",
          "text": [
            "Collecting python-dotenv\n",
            "  Downloading python_dotenv-1.1.1-py3-none-any.whl.metadata (24 kB)\n",
            "Requirement already satisfied: packaging in /usr/local/lib/python3.11/dist-packages (25.0)\n",
            "Requirement already satisfied: langchain in /usr/local/lib/python3.11/dist-packages (0.3.26)\n",
            "Collecting langchain-aws\n",
            "  Downloading langchain_aws-0.2.29-py3-none-any.whl.metadata (4.0 kB)\n",
            "Collecting langchain_community\n",
            "  Downloading langchain_community-0.3.27-py3-none-any.whl.metadata (2.9 kB)\n",
            "Collecting pinecone\n",
            "  Downloading pinecone-7.3.0-py3-none-any.whl.metadata (9.5 kB)\n",
            "Collecting langchain-pinecone\n",
            "  Downloading langchain_pinecone-0.2.11-py3-none-any.whl.metadata (6.1 kB)\n",
            "Requirement already satisfied: langchain-core<1.0.0,>=0.3.66 in /usr/local/lib/python3.11/dist-packages (from langchain) (0.3.70)\n",
            "Requirement already satisfied: langchain-text-splitters<1.0.0,>=0.3.8 in /usr/local/lib/python3.11/dist-packages (from langchain) (0.3.8)\n",
            "Requirement already satisfied: langsmith>=0.1.17 in /usr/local/lib/python3.11/dist-packages (from langchain) (0.4.8)\n",
            "Requirement already satisfied: pydantic<3.0.0,>=2.7.4 in /usr/local/lib/python3.11/dist-packages (from langchain) (2.11.7)\n",
            "Requirement already satisfied: SQLAlchemy<3,>=1.4 in /usr/local/lib/python3.11/dist-packages (from langchain) (2.0.41)\n",
            "Requirement already satisfied: requests<3,>=2 in /usr/local/lib/python3.11/dist-packages (from langchain) (2.32.3)\n",
            "Requirement already satisfied: PyYAML>=5.3 in /usr/local/lib/python3.11/dist-packages (from langchain) (6.0.2)\n",
            "Collecting boto3>=1.39.7 (from langchain-aws)\n",
            "  Downloading boto3-1.39.12-py3-none-any.whl.metadata (6.7 kB)\n",
            "Collecting numpy<2,>=1 (from langchain-aws)\n",
            "  Downloading numpy-1.26.4-cp311-cp311-manylinux_2_17_x86_64.manylinux2014_x86_64.whl.metadata (61 kB)\n",
            "\u001b[2K     \u001b[90m━━━━━━━━━━━━━━━━━━━━━━━━━━━━━━━━━━━━━━━━\u001b[0m \u001b[32m61.0/61.0 kB\u001b[0m \u001b[31m3.0 MB/s\u001b[0m eta \u001b[36m0:00:00\u001b[0m\n",
            "\u001b[?25hRequirement already satisfied: aiohttp<4.0.0,>=3.8.3 in /usr/local/lib/python3.11/dist-packages (from langchain_community) (3.11.15)\n",
            "Requirement already satisfied: tenacity!=8.4.0,<10,>=8.1.0 in /usr/local/lib/python3.11/dist-packages (from langchain_community) (8.5.0)\n",
            "Collecting dataclasses-json<0.7,>=0.5.7 (from langchain_community)\n",
            "  Downloading dataclasses_json-0.6.7-py3-none-any.whl.metadata (25 kB)\n",
            "Collecting pydantic-settings<3.0.0,>=2.4.0 (from langchain_community)\n",
            "  Downloading pydantic_settings-2.10.1-py3-none-any.whl.metadata (3.4 kB)\n",
            "Collecting httpx-sse<1.0.0,>=0.4.0 (from langchain_community)\n",
            "  Downloading httpx_sse-0.4.1-py3-none-any.whl.metadata (9.4 kB)\n",
            "Requirement already satisfied: certifi>=2019.11.17 in /usr/local/lib/python3.11/dist-packages (from pinecone) (2025.7.14)\n",
            "Collecting pinecone-plugin-assistant<2.0.0,>=1.6.0 (from pinecone)\n",
            "  Downloading pinecone_plugin_assistant-1.7.0-py3-none-any.whl.metadata (28 kB)\n",
            "Collecting pinecone-plugin-interface<0.0.8,>=0.0.7 (from pinecone)\n",
            "  Downloading pinecone_plugin_interface-0.0.7-py3-none-any.whl.metadata (1.2 kB)\n",
            "Requirement already satisfied: python-dateutil>=2.5.3 in /usr/local/lib/python3.11/dist-packages (from pinecone) (2.9.0.post0)\n",
            "Requirement already satisfied: typing-extensions>=3.7.4 in /usr/local/lib/python3.11/dist-packages (from pinecone) (4.14.1)\n",
            "Requirement already satisfied: urllib3>=1.26.0 in /usr/local/lib/python3.11/dist-packages (from pinecone) (2.5.0)\n",
            "Collecting langchain-tests<1.0.0,>=0.3.7 (from langchain-pinecone)\n",
            "  Downloading langchain_tests-0.3.20-py3-none-any.whl.metadata (3.3 kB)\n",
            "Collecting langchain-openai>=0.3.11 (from langchain-pinecone)\n",
            "  Downloading langchain_openai-0.3.28-py3-none-any.whl.metadata (2.3 kB)\n",
            "Requirement already satisfied: aiohappyeyeballs>=2.3.0 in /usr/local/lib/python3.11/dist-packages (from aiohttp<4.0.0,>=3.8.3->langchain_community) (2.6.1)\n",
            "Requirement already satisfied: aiosignal>=1.1.2 in /usr/local/lib/python3.11/dist-packages (from aiohttp<4.0.0,>=3.8.3->langchain_community) (1.4.0)\n",
            "Requirement already satisfied: attrs>=17.3.0 in /usr/local/lib/python3.11/dist-packages (from aiohttp<4.0.0,>=3.8.3->langchain_community) (25.3.0)\n",
            "Requirement already satisfied: frozenlist>=1.1.1 in /usr/local/lib/python3.11/dist-packages (from aiohttp<4.0.0,>=3.8.3->langchain_community) (1.7.0)\n",
            "Requirement already satisfied: multidict<7.0,>=4.5 in /usr/local/lib/python3.11/dist-packages (from aiohttp<4.0.0,>=3.8.3->langchain_community) (6.6.3)\n",
            "Requirement already satisfied: propcache>=0.2.0 in /usr/local/lib/python3.11/dist-packages (from aiohttp<4.0.0,>=3.8.3->langchain_community) (0.3.2)\n",
            "Requirement already satisfied: yarl<2.0,>=1.17.0 in /usr/local/lib/python3.11/dist-packages (from aiohttp<4.0.0,>=3.8.3->langchain_community) (1.20.1)\n",
            "Collecting botocore<1.40.0,>=1.39.12 (from boto3>=1.39.7->langchain-aws)\n",
            "  Downloading botocore-1.39.12-py3-none-any.whl.metadata (5.7 kB)\n",
            "Collecting jmespath<2.0.0,>=0.7.1 (from boto3>=1.39.7->langchain-aws)\n",
            "  Downloading jmespath-1.0.1-py3-none-any.whl.metadata (7.6 kB)\n",
            "Collecting s3transfer<0.14.0,>=0.13.0 (from boto3>=1.39.7->langchain-aws)\n",
            "  Downloading s3transfer-0.13.1-py3-none-any.whl.metadata (1.7 kB)\n",
            "Collecting marshmallow<4.0.0,>=3.18.0 (from dataclasses-json<0.7,>=0.5.7->langchain_community)\n",
            "  Downloading marshmallow-3.26.1-py3-none-any.whl.metadata (7.3 kB)\n",
            "Collecting typing-inspect<1,>=0.4.0 (from dataclasses-json<0.7,>=0.5.7->langchain_community)\n",
            "  Downloading typing_inspect-0.9.0-py3-none-any.whl.metadata (1.5 kB)\n",
            "Requirement already satisfied: jsonpatch<2.0,>=1.33 in /usr/local/lib/python3.11/dist-packages (from langchain-core<1.0.0,>=0.3.66->langchain) (1.33)\n",
            "Requirement already satisfied: openai<2.0.0,>=1.86.0 in /usr/local/lib/python3.11/dist-packages (from langchain-openai>=0.3.11->langchain-pinecone) (1.97.0)\n",
            "Requirement already satisfied: tiktoken<1,>=0.7 in /usr/local/lib/python3.11/dist-packages (from langchain-openai>=0.3.11->langchain-pinecone) (0.9.0)\n",
            "Requirement already satisfied: pytest<9,>=7 in /usr/local/lib/python3.11/dist-packages (from langchain-tests<1.0.0,>=0.3.7->langchain-pinecone) (8.4.1)\n",
            "Collecting pytest-asyncio<1,>=0.20 (from langchain-tests<1.0.0,>=0.3.7->langchain-pinecone)\n",
            "  Downloading pytest_asyncio-0.26.0-py3-none-any.whl.metadata (4.0 kB)\n",
            "Requirement already satisfied: httpx<1,>=0.25.0 in /usr/local/lib/python3.11/dist-packages (from langchain-tests<1.0.0,>=0.3.7->langchain-pinecone) (0.28.1)\n",
            "Collecting syrupy<5,>=4 (from langchain-tests<1.0.0,>=0.3.7->langchain-pinecone)\n",
            "  Downloading syrupy-4.9.1-py3-none-any.whl.metadata (38 kB)\n",
            "Collecting pytest-socket<1,>=0.6.0 (from langchain-tests<1.0.0,>=0.3.7->langchain-pinecone)\n",
            "  Downloading pytest_socket-0.7.0-py3-none-any.whl.metadata (6.7 kB)\n",
            "Collecting pytest-benchmark (from langchain-tests<1.0.0,>=0.3.7->langchain-pinecone)\n",
            "  Downloading pytest_benchmark-5.1.0-py3-none-any.whl.metadata (25 kB)\n",
            "Collecting pytest-codspeed (from langchain-tests<1.0.0,>=0.3.7->langchain-pinecone)\n",
            "  Downloading pytest_codspeed-4.0.0-cp311-cp311-manylinux_2_17_x86_64.manylinux2014_x86_64.manylinux_2_28_x86_64.whl.metadata (7.3 kB)\n",
            "Collecting pytest-recording (from langchain-tests<1.0.0,>=0.3.7->langchain-pinecone)\n",
            "  Downloading pytest_recording-0.13.4-py3-none-any.whl.metadata (11 kB)\n",
            "Collecting vcrpy>=7.0 (from langchain-tests<1.0.0,>=0.3.7->langchain-pinecone)\n",
            "  Downloading vcrpy-7.0.0-py2.py3-none-any.whl.metadata (4.6 kB)\n",
            "Requirement already satisfied: orjson<4.0.0,>=3.9.14 in /usr/local/lib/python3.11/dist-packages (from langsmith>=0.1.17->langchain) (3.11.0)\n",
            "Requirement already satisfied: requests-toolbelt<2.0.0,>=1.0.0 in /usr/local/lib/python3.11/dist-packages (from langsmith>=0.1.17->langchain) (1.0.0)\n",
            "Requirement already satisfied: zstandard<0.24.0,>=0.23.0 in /usr/local/lib/python3.11/dist-packages (from langsmith>=0.1.17->langchain) (0.23.0)\n",
            "Collecting packaging\n",
            "  Downloading packaging-24.2-py3-none-any.whl.metadata (3.2 kB)\n",
            "Collecting aiohttp-retry<3.0.0,>=2.9.1 (from pinecone[asyncio]<8.0.0,>=6.0.0->langchain-pinecone)\n",
            "  Downloading aiohttp_retry-2.9.1-py3-none-any.whl.metadata (8.8 kB)\n",
            "Requirement already satisfied: annotated-types>=0.6.0 in /usr/local/lib/python3.11/dist-packages (from pydantic<3.0.0,>=2.7.4->langchain) (0.7.0)\n",
            "Requirement already satisfied: pydantic-core==2.33.2 in /usr/local/lib/python3.11/dist-packages (from pydantic<3.0.0,>=2.7.4->langchain) (2.33.2)\n",
            "Requirement already satisfied: typing-inspection>=0.4.0 in /usr/local/lib/python3.11/dist-packages (from pydantic<3.0.0,>=2.7.4->langchain) (0.4.1)\n",
            "Requirement already satisfied: six>=1.5 in /usr/local/lib/python3.11/dist-packages (from python-dateutil>=2.5.3->pinecone) (1.17.0)\n",
            "Requirement already satisfied: charset-normalizer<4,>=2 in /usr/local/lib/python3.11/dist-packages (from requests<3,>=2->langchain) (3.4.2)\n",
            "Requirement already satisfied: idna<4,>=2.5 in /usr/local/lib/python3.11/dist-packages (from requests<3,>=2->langchain) (3.10)\n",
            "Requirement already satisfied: greenlet>=1 in /usr/local/lib/python3.11/dist-packages (from SQLAlchemy<3,>=1.4->langchain) (3.2.3)\n",
            "Requirement already satisfied: anyio in /usr/local/lib/python3.11/dist-packages (from httpx<1,>=0.25.0->langchain-tests<1.0.0,>=0.3.7->langchain-pinecone) (4.9.0)\n",
            "Requirement already satisfied: httpcore==1.* in /usr/local/lib/python3.11/dist-packages (from httpx<1,>=0.25.0->langchain-tests<1.0.0,>=0.3.7->langchain-pinecone) (1.0.9)\n",
            "Requirement already satisfied: h11>=0.16 in /usr/local/lib/python3.11/dist-packages (from httpcore==1.*->httpx<1,>=0.25.0->langchain-tests<1.0.0,>=0.3.7->langchain-pinecone) (0.16.0)\n",
            "Requirement already satisfied: jsonpointer>=1.9 in /usr/local/lib/python3.11/dist-packages (from jsonpatch<2.0,>=1.33->langchain-core<1.0.0,>=0.3.66->langchain) (3.0.0)\n",
            "Requirement already satisfied: distro<2,>=1.7.0 in /usr/local/lib/python3.11/dist-packages (from openai<2.0.0,>=1.86.0->langchain-openai>=0.3.11->langchain-pinecone) (1.9.0)\n",
            "Requirement already satisfied: jiter<1,>=0.4.0 in /usr/local/lib/python3.11/dist-packages (from openai<2.0.0,>=1.86.0->langchain-openai>=0.3.11->langchain-pinecone) (0.10.0)\n",
            "Requirement already satisfied: sniffio in /usr/local/lib/python3.11/dist-packages (from openai<2.0.0,>=1.86.0->langchain-openai>=0.3.11->langchain-pinecone) (1.3.1)\n",
            "Requirement already satisfied: tqdm>4 in /usr/local/lib/python3.11/dist-packages (from openai<2.0.0,>=1.86.0->langchain-openai>=0.3.11->langchain-pinecone) (4.67.1)\n",
            "Requirement already satisfied: iniconfig>=1 in /usr/local/lib/python3.11/dist-packages (from pytest<9,>=7->langchain-tests<1.0.0,>=0.3.7->langchain-pinecone) (2.1.0)\n",
            "Requirement already satisfied: pluggy<2,>=1.5 in /usr/local/lib/python3.11/dist-packages (from pytest<9,>=7->langchain-tests<1.0.0,>=0.3.7->langchain-pinecone) (1.6.0)\n",
            "Requirement already satisfied: pygments>=2.7.2 in /usr/local/lib/python3.11/dist-packages (from pytest<9,>=7->langchain-tests<1.0.0,>=0.3.7->langchain-pinecone) (2.19.2)\n",
            "Requirement already satisfied: regex>=2022.1.18 in /usr/local/lib/python3.11/dist-packages (from tiktoken<1,>=0.7->langchain-openai>=0.3.11->langchain-pinecone) (2024.11.6)\n",
            "Collecting mypy-extensions>=0.3.0 (from typing-inspect<1,>=0.4.0->dataclasses-json<0.7,>=0.5.7->langchain_community)\n",
            "  Downloading mypy_extensions-1.1.0-py3-none-any.whl.metadata (1.1 kB)\n",
            "Requirement already satisfied: wrapt in /usr/local/lib/python3.11/dist-packages (from vcrpy>=7.0->langchain-tests<1.0.0,>=0.3.7->langchain-pinecone) (1.17.2)\n",
            "Requirement already satisfied: py-cpuinfo in /usr/local/lib/python3.11/dist-packages (from pytest-benchmark->langchain-tests<1.0.0,>=0.3.7->langchain-pinecone) (9.0.0)\n",
            "Requirement already satisfied: cffi>=1.17.1 in /usr/local/lib/python3.11/dist-packages (from pytest-codspeed->langchain-tests<1.0.0,>=0.3.7->langchain-pinecone) (1.17.1)\n",
            "Requirement already satisfied: rich>=13.8.1 in /usr/local/lib/python3.11/dist-packages (from pytest-codspeed->langchain-tests<1.0.0,>=0.3.7->langchain-pinecone) (13.9.4)\n",
            "Requirement already satisfied: pycparser in /usr/local/lib/python3.11/dist-packages (from cffi>=1.17.1->pytest-codspeed->langchain-tests<1.0.0,>=0.3.7->langchain-pinecone) (2.22)\n",
            "Requirement already satisfied: markdown-it-py>=2.2.0 in /usr/local/lib/python3.11/dist-packages (from rich>=13.8.1->pytest-codspeed->langchain-tests<1.0.0,>=0.3.7->langchain-pinecone) (3.0.0)\n",
            "Requirement already satisfied: mdurl~=0.1 in /usr/local/lib/python3.11/dist-packages (from markdown-it-py>=2.2.0->rich>=13.8.1->pytest-codspeed->langchain-tests<1.0.0,>=0.3.7->langchain-pinecone) (0.1.2)\n",
            "Downloading python_dotenv-1.1.1-py3-none-any.whl (20 kB)\n",
            "Downloading langchain_aws-0.2.29-py3-none-any.whl (133 kB)\n",
            "\u001b[2K   \u001b[90m━━━━━━━━━━━━━━━━━━━━━━━━━━━━━━━━━━━━━━━━\u001b[0m \u001b[32m133.1/133.1 kB\u001b[0m \u001b[31m5.9 MB/s\u001b[0m eta \u001b[36m0:00:00\u001b[0m\n",
            "\u001b[?25hDownloading langchain_community-0.3.27-py3-none-any.whl (2.5 MB)\n",
            "\u001b[2K   \u001b[90m━━━━━━━━━━━━━━━━━━━━━━━━━━━━━━━━━━━━━━━━\u001b[0m \u001b[32m2.5/2.5 MB\u001b[0m \u001b[31m40.1 MB/s\u001b[0m eta \u001b[36m0:00:00\u001b[0m\n",
            "\u001b[?25hDownloading pinecone-7.3.0-py3-none-any.whl (587 kB)\n",
            "\u001b[2K   \u001b[90m━━━━━━━━━━━━━━━━━━━━━━━━━━━━━━━━━━━━━━━━\u001b[0m \u001b[32m587.6/587.6 kB\u001b[0m \u001b[31m29.7 MB/s\u001b[0m eta \u001b[36m0:00:00\u001b[0m\n",
            "\u001b[?25hDownloading langchain_pinecone-0.2.11-py3-none-any.whl (23 kB)\n",
            "Downloading boto3-1.39.12-py3-none-any.whl (139 kB)\n",
            "\u001b[2K   \u001b[90m━━━━━━━━━━━━━━━━━━━━━━━━━━━━━━━━━━━━━━━━\u001b[0m \u001b[32m139.9/139.9 kB\u001b[0m \u001b[31m9.4 MB/s\u001b[0m eta \u001b[36m0:00:00\u001b[0m\n",
            "\u001b[?25hDownloading dataclasses_json-0.6.7-py3-none-any.whl (28 kB)\n",
            "Downloading httpx_sse-0.4.1-py3-none-any.whl (8.1 kB)\n",
            "Downloading langchain_openai-0.3.28-py3-none-any.whl (70 kB)\n",
            "\u001b[2K   \u001b[90m━━━━━━━━━━━━━━━━━━━━━━━━━━━━━━━━━━━━━━━━\u001b[0m \u001b[32m70.6/70.6 kB\u001b[0m \u001b[31m4.6 MB/s\u001b[0m eta \u001b[36m0:00:00\u001b[0m\n",
            "\u001b[?25hDownloading langchain_tests-0.3.20-py3-none-any.whl (46 kB)\n",
            "\u001b[2K   \u001b[90m━━━━━━━━━━━━━━━━━━━━━━━━━━━━━━━━━━━━━━━━\u001b[0m \u001b[32m46.3/46.3 kB\u001b[0m \u001b[31m2.6 MB/s\u001b[0m eta \u001b[36m0:00:00\u001b[0m\n",
            "\u001b[?25hDownloading numpy-1.26.4-cp311-cp311-manylinux_2_17_x86_64.manylinux2014_x86_64.whl (18.3 MB)\n",
            "\u001b[2K   \u001b[90m━━━━━━━━━━━━━━━━━━━━━━━━━━━━━━━━━━━━━━━━\u001b[0m \u001b[32m18.3/18.3 MB\u001b[0m \u001b[31m70.5 MB/s\u001b[0m eta \u001b[36m0:00:00\u001b[0m\n",
            "\u001b[?25hDownloading pinecone_plugin_assistant-1.7.0-py3-none-any.whl (239 kB)\n",
            "\u001b[2K   \u001b[90m━━━━━━━━━━━━━━━━━━━━━━━━━━━━━━━━━━━━━━━━\u001b[0m \u001b[32m240.0/240.0 kB\u001b[0m \u001b[31m14.8 MB/s\u001b[0m eta \u001b[36m0:00:00\u001b[0m\n",
            "\u001b[?25hDownloading packaging-24.2-py3-none-any.whl (65 kB)\n",
            "\u001b[2K   \u001b[90m━━━━━━━━━━━━━━━━━━━━━━━━━━━━━━━━━━━━━━━━\u001b[0m \u001b[32m65.5/65.5 kB\u001b[0m \u001b[31m4.9 MB/s\u001b[0m eta \u001b[36m0:00:00\u001b[0m\n",
            "\u001b[?25hDownloading pinecone_plugin_interface-0.0.7-py3-none-any.whl (6.2 kB)\n",
            "Downloading pydantic_settings-2.10.1-py3-none-any.whl (45 kB)\n",
            "\u001b[2K   \u001b[90m━━━━━━━━━━━━━━━━━━━━━━━━━━━━━━━━━━━━━━━━\u001b[0m \u001b[32m45.2/45.2 kB\u001b[0m \u001b[31m2.7 MB/s\u001b[0m eta \u001b[36m0:00:00\u001b[0m\n",
            "\u001b[?25hDownloading aiohttp_retry-2.9.1-py3-none-any.whl (10.0 kB)\n",
            "Downloading botocore-1.39.12-py3-none-any.whl (13.9 MB)\n",
            "\u001b[2K   \u001b[90m━━━━━━━━━━━━━━━━━━━━━━━━━━━━━━━━━━━━━━━━\u001b[0m \u001b[32m13.9/13.9 MB\u001b[0m \u001b[31m83.9 MB/s\u001b[0m eta \u001b[36m0:00:00\u001b[0m\n",
            "\u001b[?25hDownloading jmespath-1.0.1-py3-none-any.whl (20 kB)\n",
            "Downloading marshmallow-3.26.1-py3-none-any.whl (50 kB)\n",
            "\u001b[2K   \u001b[90m━━━━━━━━━━━━━━━━━━━━━━━━━━━━━━━━━━━━━━━━\u001b[0m \u001b[32m50.9/50.9 kB\u001b[0m \u001b[31m3.1 MB/s\u001b[0m eta \u001b[36m0:00:00\u001b[0m\n",
            "\u001b[?25hDownloading pytest_asyncio-0.26.0-py3-none-any.whl (19 kB)\n",
            "Downloading pytest_socket-0.7.0-py3-none-any.whl (6.8 kB)\n",
            "Downloading s3transfer-0.13.1-py3-none-any.whl (85 kB)\n",
            "\u001b[2K   \u001b[90m━━━━━━━━━━━━━━━━━━━━━━━━━━━━━━━━━━━━━━━━\u001b[0m \u001b[32m85.3/85.3 kB\u001b[0m \u001b[31m5.8 MB/s\u001b[0m eta \u001b[36m0:00:00\u001b[0m\n",
            "\u001b[?25hDownloading syrupy-4.9.1-py3-none-any.whl (52 kB)\n",
            "\u001b[2K   \u001b[90m━━━━━━━━━━━━━━━━━━━━━━━━━━━━━━━━━━━━━━━━\u001b[0m \u001b[32m52.2/52.2 kB\u001b[0m \u001b[31m3.5 MB/s\u001b[0m eta \u001b[36m0:00:00\u001b[0m\n",
            "\u001b[?25hDownloading typing_inspect-0.9.0-py3-none-any.whl (8.8 kB)\n",
            "Downloading vcrpy-7.0.0-py2.py3-none-any.whl (42 kB)\n",
            "\u001b[2K   \u001b[90m━━━━━━━━━━━━━━━━━━━━━━━━━━━━━━━━━━━━━━━━\u001b[0m \u001b[32m42.3/42.3 kB\u001b[0m \u001b[31m3.0 MB/s\u001b[0m eta \u001b[36m0:00:00\u001b[0m\n",
            "\u001b[?25hDownloading pytest_benchmark-5.1.0-py3-none-any.whl (44 kB)\n",
            "\u001b[2K   \u001b[90m━━━━━━━━━━━━━━━━━━━━━━━━━━━━━━━━━━━━━━━━\u001b[0m \u001b[32m44.3/44.3 kB\u001b[0m \u001b[31m2.9 MB/s\u001b[0m eta \u001b[36m0:00:00\u001b[0m\n",
            "\u001b[?25hDownloading pytest_codspeed-4.0.0-cp311-cp311-manylinux_2_17_x86_64.manylinux2014_x86_64.manylinux_2_28_x86_64.whl (221 kB)\n",
            "\u001b[2K   \u001b[90m━━━━━━━━━━━━━━━━━━━━━━━━━━━━━━━━━━━━━━━━\u001b[0m \u001b[32m221.1/221.1 kB\u001b[0m \u001b[31m15.0 MB/s\u001b[0m eta \u001b[36m0:00:00\u001b[0m\n",
            "\u001b[?25hDownloading pytest_recording-0.13.4-py3-none-any.whl (13 kB)\n",
            "Downloading mypy_extensions-1.1.0-py3-none-any.whl (5.0 kB)\n",
            "Installing collected packages: python-dotenv, pinecone-plugin-interface, packaging, numpy, mypy-extensions, jmespath, httpx-sse, vcrpy, typing-inspect, pinecone-plugin-assistant, marshmallow, botocore, syrupy, s3transfer, pytest-socket, pytest-recording, pytest-codspeed, pytest-benchmark, pytest-asyncio, pydantic-settings, pinecone, dataclasses-json, aiohttp-retry, boto3, langchain-tests, langchain-openai, langchain-aws, langchain-pinecone, langchain_community\n",
            "  Attempting uninstall: packaging\n",
            "    Found existing installation: packaging 25.0\n",
            "    Uninstalling packaging-25.0:\n",
            "      Successfully uninstalled packaging-25.0\n",
            "  Attempting uninstall: numpy\n",
            "    Found existing installation: numpy 2.0.2\n",
            "    Uninstalling numpy-2.0.2:\n",
            "      Successfully uninstalled numpy-2.0.2\n",
            "\u001b[31mERROR: pip's dependency resolver does not currently take into account all the packages that are installed. This behaviour is the source of the following dependency conflicts.\n",
            "thinc 8.3.6 requires numpy<3.0.0,>=2.0.0, but you have numpy 1.26.4 which is incompatible.\n",
            "opencv-python-headless 4.12.0.88 requires numpy<2.3.0,>=2; python_version >= \"3.9\", but you have numpy 1.26.4 which is incompatible.\n",
            "opencv-python 4.12.0.88 requires numpy<2.3.0,>=2; python_version >= \"3.9\", but you have numpy 1.26.4 which is incompatible.\n",
            "opencv-contrib-python 4.12.0.88 requires numpy<2.3.0,>=2; python_version >= \"3.9\", but you have numpy 1.26.4 which is incompatible.\u001b[0m\u001b[31m\n",
            "\u001b[0mSuccessfully installed aiohttp-retry-2.9.1 boto3-1.39.12 botocore-1.39.12 dataclasses-json-0.6.7 httpx-sse-0.4.1 jmespath-1.0.1 langchain-aws-0.2.29 langchain-openai-0.3.28 langchain-pinecone-0.2.11 langchain-tests-0.3.20 langchain_community-0.3.27 marshmallow-3.26.1 mypy-extensions-1.1.0 numpy-1.26.4 packaging-24.2 pinecone-7.3.0 pinecone-plugin-assistant-1.7.0 pinecone-plugin-interface-0.0.7 pydantic-settings-2.10.1 pytest-asyncio-0.26.0 pytest-benchmark-5.1.0 pytest-codspeed-4.0.0 pytest-recording-0.13.4 pytest-socket-0.7.0 python-dotenv-1.1.1 s3transfer-0.13.1 syrupy-4.9.1 typing-inspect-0.9.0 vcrpy-7.0.0\n"
          ]
        },
        {
          "output_type": "display_data",
          "data": {
            "application/vnd.colab-display-data+json": {
              "pip_warning": {
                "packages": [
                  "numpy",
                  "packaging"
                ]
              },
              "id": "43fc1008fbd846b7a57085cf84e6082f"
            }
          },
          "metadata": {}
        }
      ],
      "source": [
        "# Install pinecone, AWS and langchain\n",
        "!pip install python-dotenv packaging langchain langchain-aws langchain_community pinecone langchain-pinecone"
      ]
    },
    {
      "cell_type": "code",
      "source": [
        "import os\n",
        "# Load environment and save AWS token\n",
        "from dotenv import load_dotenv\n",
        "load_dotenv(\"awskey.txt\")\n",
        "# Get AWS access key, AWS secret key, AWS region and Pinecone API key\n",
        "accesskey = os.getenv(\"AWS_ACCESS_KEY\")\n",
        "secretkey = os.getenv(\"AWS_SECRET_KEY\")\n",
        "region = os.getenv(\"AWS_REGION\")\n",
        "pineconekey = os.getenv(\"PINECONE_API_KEY\")"
      ],
      "metadata": {
        "id": "ybq_SycUVPCF"
      },
      "execution_count": null,
      "outputs": []
    },
    {
      "cell_type": "markdown",
      "source": [
        "**Before using RAG (Retrieval Augmented Generation). Using Amazon Nova Lite for invoke prompt about financial customer service.**"
      ],
      "metadata": {
        "id": "pEVMeBA5ujGI"
      }
    },
    {
      "cell_type": "code",
      "source": [
        "from langchain_aws import ChatBedrock\n",
        "\n",
        "bedrock = ChatBedrock(\n",
        "    model_id = \"us.amazon.nova-lite-v1:0\",\n",
        "    region_name = region, aws_access_key_id = accesskey, aws_secret_access_key = secretkey\n",
        ")"
      ],
      "metadata": {
        "id": "suf_w7TV-ZjK"
      },
      "execution_count": null,
      "outputs": []
    },
    {
      "cell_type": "code",
      "source": [
        "aws = bedrock.invoke(\"How can I increase my credit card limit?\")\n",
        "print(aws.content)"
      ],
      "metadata": {
        "id": "xPtpzzDtLe6K",
        "colab": {
          "base_uri": "https://localhost:8080/"
        },
        "outputId": "e2c8602b-d5fb-42de-f7d4-cf64a4e57a0e"
      },
      "execution_count": null,
      "outputs": [
        {
          "output_type": "stream",
          "name": "stdout",
          "text": [
            "Increasing your credit card limit can be beneficial for managing larger expenses or improving your credit utilization ratio. Here are several steps you can take to increase your credit card limit:\n",
            "\n",
            "### 1. **Check Your Credit Report**\n",
            "   - **Review Your Credit Score:** Ensure your credit score is in good standing. A higher credit score can improve your chances of getting a limit increase.\n",
            "   - **Check for Errors:** Make sure there are no errors on your credit report that could negatively impact your creditworthiness.\n",
            "\n",
            "### 2. **Contact Your Credit Card Issuer**\n",
            "   - **Call Customer Service:** Most credit card issuers allow you to request a limit increase over the phone. You can find the customer service number on the back of your credit card or on the issuer’s website.\n",
            "   - **Online Portal:** Some issuers offer the option to request a limit increase through their online account management portal.\n",
            "\n",
            "### 3. **Provide Necessary Information**\n",
            "   - **Income and Employment Verification:** Be prepared to provide details about your income, employment status, and possibly other financial information.\n",
            "   - **Reason for Increase:** Some issuers may ask why you’re requesting the increase. Common reasons include better financial management, a significant purchase, or consolidating debt.\n",
            "\n",
            "### 4. **Wait for a Response**\n",
            "   - **Decision Time:** The issuer will review your request and make a decision. This can be done instantly or may take a few days to a few weeks.\n",
            "   - **Approval or Denial:** You’ll be notified of the decision. If approved, your new limit will be effective immediately or at a specified future date.\n",
            "\n",
            "### 5. **Alternative Methods**\n",
            "   - **Good Payment History:** Consistently paying your bills on time and in full can sometimes prompt the issuer to automatically increase your limit.\n",
            "   - **Request in Writing:** If you prefer, you can send a written request to your credit card issuer. Include your account number, the requested limit increase, and the reason for your request.\n",
            "\n",
            "### 6. **Consider a Different Card**\n",
            "   - **Balance Transfers:** If you’re struggling with high utilization, consider transferring balances to a card with a higher limit.\n",
            "   - **New Card Application:** If your current issuer denies your request, you might consider applying for a new credit card with a higher initial limit.\n",
            "\n",
            "### 7. **Be Cautious**\n",
            "   - **Avoid Multiple Requests:** Frequent requests for limit increases can be seen as a red flag by credit card issuers and may negatively impact your credit score.\n",
            "   - **Don’t Max Out Your Card:** Even with a higher limit, avoid maxing out your card as it can hurt your credit utilization ratio and overall credit score.\n",
            "\n",
            "By following these steps, you can increase your chances of successfully getting a higher credit card limit.\n"
          ]
        }
      ]
    },
    {
      "cell_type": "code",
      "source": [
        "aws = bedrock.invoke(\"What are the fees for your investment service?\")\n",
        "print(aws.content)"
      ],
      "metadata": {
        "colab": {
          "base_uri": "https://localhost:8080/"
        },
        "id": "8yOowBfAx2vX",
        "outputId": "01e6ee05-1796-4b64-f4e5-30954394daf1"
      },
      "execution_count": null,
      "outputs": [
        {
          "output_type": "stream",
          "name": "stdout",
          "text": [
            "The fees for investment services can vary widely depending on the type of service, the provider, and the specific investment products involved. Here are some common types of fees you might encounter:\n",
            "\n",
            "1. **Management Fees**: \n",
            "   - Typically charged by mutual funds, ETFs, and managed accounts.\n",
            "   - Usually a percentage of the assets under management (AUM), often ranging from 0.25% to 2% per year.\n",
            "\n",
            "2. **Performance Fees**: \n",
            "   - Charged by some hedge funds and certain types of investment managers.\n",
            "   - Usually a percentage of the profits generated, often 15-20% of the gains above a certain threshold.\n",
            "\n",
            "3. **Transaction Fees**: \n",
            "   - Charged for buying and selling securities.\n",
            "   - Can vary widely, but may be a flat fee or a percentage of the trade value.\n",
            "\n",
            "4. **Load Fees**: \n",
            "   - Charged when you buy or sell shares of a mutual fund.\n",
            "   - Usually a percentage of the amount invested or redeemed, often ranging from 1% to 5%.\n",
            "\n",
            "5. **12b-1 Fees**: \n",
            "   - Annual marketing and distribution fees charged by mutual funds.\n",
            "   - Typically range from 0.25% to 1% per year.\n",
            "\n",
            "6. **Account Maintenance Fees**: \n",
            "   - Charged by some investment firms for maintaining your account.\n",
            "   - Can vary, but may be a flat fee or a percentage of AUM.\n",
            "\n",
            "7. **Advisory Fees**: \n",
            "   - Charged by financial advisors for their services.\n",
            "   - Can be based on a percentage of AUM, an hourly rate, or a flat fee.\n",
            "\n",
            "8. **Custody Fees**: \n",
            "   - Charged by brokerage firms for holding and safeguarding your securities.\n",
            "   - Usually a small percentage of AUM.\n",
            "\n",
            "To get precise information about fees, you should contact the specific investment service or financial advisor you are considering. They can provide detailed information about their fee structure and any potential costs associated with their services.\n"
          ]
        }
      ]
    },
    {
      "cell_type": "code",
      "source": [
        "aws = bedrock.invoke(\"How do I download my checking statements from the mobile app?\")\n",
        "print(aws.content)"
      ],
      "metadata": {
        "colab": {
          "base_uri": "https://localhost:8080/"
        },
        "id": "4VmYnHtvN4FZ",
        "outputId": "3c1ce480-fc5f-4e69-9bac-093c888dfd4f"
      },
      "execution_count": null,
      "outputs": [
        {
          "output_type": "stream",
          "name": "stdout",
          "text": [
            "To download your checking statements from your mobile banking app, follow these general steps. The exact steps may vary slightly depending on the specific app you are using, but the process is generally similar across most banking apps:\n",
            "\n",
            "1. **Open the Mobile Banking App**:\n",
            "   - Launch the mobile banking app on your smartphone or tablet.\n",
            "\n",
            "2. **Log In**:\n",
            "   - Enter your username and password to log in to your account. If you have biometric login enabled (fingerprint or face recognition), you may use that instead.\n",
            "\n",
            "3. **Navigate to Account Details**:\n",
            "   - Once logged in, find the account for which you want to download the statement. This is usually listed on the main dashboard or in the accounts section.\n",
            "\n",
            "4. **Select the Account**:\n",
            "   - Tap on the specific checking account to view its details.\n",
            "\n",
            "5. **Find the Statements or Transactions Section**:\n",
            "   - Look for a menu or tab that says \"Statements,\" \"Transactions,\" or something similar. This is often represented by an icon that looks like a list or a document.\n",
            "\n",
            "6. **Choose the Statement Period**:\n",
            "   - Select the period for which you want to download the statement. This could be a specific month or a custom date range.\n",
            "\n",
            "7. **Download the Statement**:\n",
            "   - There should be an option to download the statement. This is often represented by a download icon (usually an arrow pointing downwards) or a button that says \"Download\" or \"Export.\"\n",
            "   - Tap on this option to download the statement to your device.\n",
            "\n",
            "8. **Choose the Format**:\n",
            "   - You may be prompted to choose the format in which you want to download the statement (e.g., PDF, CSV).\n",
            "\n",
            "9. **Save the File**:\n",
            "   - The file will be downloaded to your device. You can find it in your device's download folder or the location where you save downloaded files.\n",
            "\n",
            "10. **Access the Downloaded File**:\n",
            "    - Open the file using the appropriate application (e.g., a PDF reader for PDF files).\n",
            "\n",
            "### Example for a Specific App (e.g., Chase Mobile App):\n",
            "\n",
            "1. **Open the Chase Mobile App**.\n",
            "2. **Log In** with your credentials.\n",
            "3. **Select the Checking Account** from the main dashboard.\n",
            "4. **Tap on \"Account Services\"** at the bottom of the screen.\n",
            "5. **Select \"Statements\"**.\n",
            "6. **Choose the Desired Statement Period**.\n",
            "7. **Tap on the Download Icon** (usually an arrow pointing downwards).\n",
            "8. **Choose the Format (PDF or CSV)**.\n",
            "9. **Save the File** to your device.\n",
            "\n",
            "If you encounter any issues, it's a good idea to check the app's help section or contact your bank's customer support for assistance.\n"
          ]
        }
      ]
    },
    {
      "cell_type": "code",
      "source": [
        "aws = bedrock.invoke(\"What is AWS?\")\n",
        "print(aws.content)"
      ],
      "metadata": {
        "colab": {
          "base_uri": "https://localhost:8080/"
        },
        "id": "1jZkyR_b3R2l",
        "outputId": "fc16cf0e-4656-4314-8af5-1a3fb3cf89e5"
      },
      "execution_count": null,
      "outputs": [
        {
          "output_type": "stream",
          "name": "stdout",
          "text": [
            "AWS, or Amazon Web Services, is a comprehensive and widely adopted cloud platform offered by Amazon. Launched in 2006, AWS provides a broad set of global cloud-based products available on demand, including computing power, storage options, and various other IT resources. These services can be accessed via the internet, making it easier for businesses and individuals to scale their operations efficiently.\n",
            "\n",
            "### Key Features of AWS:\n",
            "\n",
            "1. **Compute Services**:\n",
            "   - **Amazon EC2 (Elastic Compute Cloud)**: Provides resizable compute capacity in the cloud.\n",
            "   - **AWS Lambda**: Allows you to run code without provisioning or managing servers.\n",
            "   - **Amazon ECS and EKS**: Services for running containerized applications.\n",
            "\n",
            "2. **Storage Services**:\n",
            "   - **Amazon S3 (Simple Storage Service)**: Object storage service offering scalability, data availability, security, and performance.\n",
            "   - **Amazon EBS (Elastic Block Store)**: Provides persistent block storage volumes for use with EC2.\n",
            "   - **Amazon Glacier**: Low-cost cloud storage service for data archiving and long-term backup.\n",
            "\n",
            "3. **Database Services**:\n",
            "   - **Amazon RDS (Relational Database Service)**: Managed service for relational databases.\n",
            "   - **Amazon DynamoDB**: Managed NoSQL database service.\n",
            "   - **Amazon Redshift**: Data warehousing service.\n",
            "\n",
            "4. **Networking and Content Delivery**:\n",
            "   - **Amazon VPC (Virtual Private Cloud)**: Allows you to provision a logically isolated section of the AWS cloud.\n",
            "   - **Amazon CloudFront**: Content delivery network (CDN) service.\n",
            "\n",
            "5. **DevOps and Developer Tools**:\n",
            "   - **AWS CodePipeline**: Continuous integration and continuous delivery service.\n",
            "   - **AWS CodeBuild**: Build service that compiles source code and runs tests.\n",
            "   - **AWS CodeDeploy**: Service that automates code deployments.\n",
            "\n",
            "6. **Machine Learning**:\n",
            "   - **Amazon SageMaker**: Fully-managed service that provides every developer and data scientist with the ability to build, train, and deploy machine learning models.\n",
            "\n",
            "7. **Analytics**:\n",
            "   - **Amazon Athena**: Interactive query service that makes it easy to analyze data in Amazon S3 using standard SQL.\n",
            "   - **Amazon QuickSight**: Fast, cloud-powered business intelligence service.\n",
            "\n",
            "8. **Security, Identity, and Compliance**:\n",
            "   - **AWS Identity and Access Management (IAM)**: Manages access to AWS services and resources securely.\n",
            "   - **AWS Key Management Service (KMS)**: Managed service that makes it easy to create and control the encryption keys.\n",
            "\n",
            "9. **Monitoring and Management**:\n",
            "   - **Amazon CloudWatch**: Monitoring and observability service for AWS cloud resources.\n",
            "   - **AWS Config**: Service that enables you to assess, audit, and evaluate the configurations of your AWS resources.\n",
            "\n",
            "### Benefits of AWS:\n",
            "\n",
            "- **Scalability**: Easily scale resources up or down based on demand.\n",
            "- **Cost Efficiency**: Pay only for what you use, with no upfront costs or long-term commitments.\n",
            "- **Global Infrastructure**: Data centers located worldwide to provide low-latency access.\n",
            "- **Security**: Robust security features and compliance certifications.\n",
            "- **Innovation**: Continuously updated with new services and features to support the latest technologies.\n",
            "\n",
            "AWS is used by a wide range of organizations, from startups to large enterprises, to build and deploy applications, store data, and run business operations.\n"
          ]
        }
      ]
    },
    {
      "cell_type": "markdown",
      "source": [
        "**Load financial customer service dataset CSV format file**"
      ],
      "metadata": {
        "id": "w2HXWSBDyERE"
      }
    },
    {
      "cell_type": "code",
      "source": [
        "from langchain_community.document_loaders.csv_loader import CSVLoader\n",
        "\n",
        "loader = CSVLoader(file_path=\"fcsdataset.csv\")\n",
        "\n",
        "data = loader.load()\n",
        "\n",
        "print(data)"
      ],
      "metadata": {
        "colab": {
          "base_uri": "https://localhost:8080/"
        },
        "id": "JzEFX1Pjcl0c",
        "outputId": "a6c59030-a317-47e8-b8e5-0766d3bde516"
      },
      "execution_count": null,
      "outputs": [
        {
          "output_type": "stream",
          "name": "stdout",
          "text": [
            "[Document(metadata={'source': 'fcsdataset.csv', 'row': 0}, page_content='Question: How do I download my checking statements from the mobile app?\\nAnswer: Open the app, go to Accounts, select your account, tap Statements, choose the month, and click Download PDF. Ensure you have a PDF viewer.'), Document(metadata={'source': 'fcsdataset.csv', 'row': 1}, page_content='Question: How do I transfer funds to another savings account?\\nAnswer: Log into online banking, go to Transfers, enter the recipients account details, and confirm. Transfers typically process within 1 business day.'), Document(metadata={'source': 'fcsdataset.csv', 'row': 2}, page_content='Question: What are the benefits of your insurance plan?\\nAnswer: Our insurance plan offers personalized portfolio management. Contact us at 18005554321 for a full list of benefits tailored to your needs.'), Document(metadata={'source': 'fcsdataset.csv', 'row': 3}, page_content='Question: Can I change the payment due date for my loan?\\nAnswer: Yes, contact our loan team at 18005556789 to request a change. Some restrictions may apply based on terms.'), Document(metadata={'source': 'fcsdataset.csv', 'row': 4}, page_content='Question: How do I set up automatic credit card payments?\\nAnswer: Log into online banking, go to Bill Pay, select Auto-Pay Setup,  choose payee, amount, and schedule. You will receive a confirmation.'), Document(metadata={'source': 'fcsdataset.csv', 'row': 5}, page_content='Question: Can I change the payment due date for my credit card?\\nAnswer: Yes, contact our credit card team at 18005556789 to request a change. Some restrictions may apply based on terms.'), Document(metadata={'source': 'fcsdataset.csv', 'row': 6}, page_content='Question: How can I increase my credit card limit?\\nAnswer: To request a limit increase, call 18005551234 or submit a request online. We will review your account and credit history.'), Document(metadata={'source': 'fcsdataset.csv', 'row': 7}, page_content='Question: What are the fees for your investment service?\\nAnswer: Our investment service charges a 0.5 percent annual fee based on assets. No additional trading fees for standard portfolios. Want a detailed schedule?'), Document(metadata={'source': 'fcsdataset.csv', 'row': 8}, page_content='Question: Why was my mortgage application denied?\\nAnswer: Denials may occur due to credit score, debt-to-income ratio, or incomplete documents. Contact our mortgage team at 18005555678 for details.'), Document(metadata={'source': 'fcsdataset.csv', 'row': 9}, page_content='Question: Can I apply for a mortgage online?\\nAnswer: Yes, visit the mortgage section on our website, complete the form, and upload documents. A representative will follow up within 2 business days.'), Document(metadata={'source': 'fcsdataset.csv', 'row': 10}, page_content='Question: What documents are required to open a checking account?\\nAnswer: You will need a government-issued ID, proof of address, and Social Security number. Visit our website or a branch to start the process.'), Document(metadata={'source': 'fcsdataset.csv', 'row': 11}, page_content='Question: Why was my loan application denied?\\nAnswer: Denials may occur due to credit score, debt-to-income ratio, or incomplete documents. Contact our loan team at 18005555678 for details.')]\n"
          ]
        }
      ]
    },
    {
      "cell_type": "markdown",
      "source": [
        "**Import Pinecone and Amazon Titan Embeddings (Bedrock Embeddings) and add dataset**"
      ],
      "metadata": {
        "id": "dZQfE6RhyN7B"
      }
    },
    {
      "cell_type": "code",
      "source": [
        "from langchain_pinecone import PineconeVectorStore\n",
        "from pinecone import Pinecone\n",
        "from langchain_aws import BedrockEmbeddings"
      ],
      "metadata": {
        "id": "n9I3dU-BNIjL"
      },
      "execution_count": null,
      "outputs": []
    },
    {
      "cell_type": "code",
      "source": [
        "embeddings = BedrockEmbeddings(model_id = \"amazon.titan-embed-text-v2:0\", region_name = region, aws_access_key_id = accesskey, aws_secret_access_key = secretkey)\n",
        "pc = Pinecone(api_key = pineconekey)\n",
        "# If not available, create Pinecone index in the Pinecone console (in this tutorial, use Starter Plan/AWS with Serverless only)\n",
        "index = pc.Index(\"bedrock-langchain\")\n",
        "vector_store = PineconeVectorStore(index = index, embedding = embeddings)"
      ],
      "metadata": {
        "id": "VDzNvFM8VSVP"
      },
      "execution_count": null,
      "outputs": []
    },
    {
      "cell_type": "code",
      "source": [
        "# Add all rows in the dataset to Pinecone index\n",
        "vector_store.add_documents(documents=data)"
      ],
      "metadata": {
        "colab": {
          "base_uri": "https://localhost:8080/"
        },
        "id": "-QwgBUeGHv_T",
        "outputId": "daca6abb-5fd3-4625-d152-26561d13678e"
      },
      "execution_count": null,
      "outputs": [
        {
          "output_type": "execute_result",
          "data": {
            "text/plain": [
              "['29b15889-3a19-417f-87e6-9a1dedfe76fc',\n",
              " 'c035c25b-0554-42a1-8caf-a09bfd83ea27',\n",
              " '3b6906ea-2cbd-4c96-ba33-0da1a4191379',\n",
              " '3d5d70f7-205d-44c0-b3b3-4023aa55f53d',\n",
              " '5fc1be0d-d10f-4adb-aeb7-8f383c369948',\n",
              " '61a76f7d-396e-4091-bb21-a89c872d76a4',\n",
              " '3c018a33-6b29-4bc2-8903-8cf99b1a07c1',\n",
              " '65150a87-433d-43b0-80bc-33ae53512ffc',\n",
              " '03493755-742e-4eec-8ac5-1c86ffa46523',\n",
              " '0533f21d-a470-4470-b886-aee1a8029515',\n",
              " 'c5d1541f-f737-45de-87f9-f829dc0de5f2',\n",
              " '521820c5-c2f0-439d-ab01-08f5f2665ec4']"
            ]
          },
          "metadata": {},
          "execution_count": 11
        }
      ]
    },
    {
      "cell_type": "markdown",
      "source": [
        "**After RAG (Retrieval Augmented Generation). Using Amazon Nova Lite, Amazon Titan Embeddings and Pinecone for invoke prompt about financial customer service.**"
      ],
      "metadata": {
        "id": "qvcPMac81EA1"
      }
    },
    {
      "cell_type": "code",
      "source": [
        "from langchain.chains import RetrievalQA\n",
        "afterrag = RetrievalQA.from_llm(\n",
        "    llm = bedrock, retriever = vector_store.as_retriever(),\n",
        ")"
      ],
      "metadata": {
        "id": "ErKAI8E__-Rx"
      },
      "execution_count": null,
      "outputs": []
    },
    {
      "cell_type": "code",
      "source": [
        "result = afterrag.invoke(\"How can I increase my credit card limit?\")\n",
        "print(result['result'])"
      ],
      "metadata": {
        "colab": {
          "base_uri": "https://localhost:8080/"
        },
        "id": "-wf1yEVV3au9",
        "outputId": "021dd0cc-c346-4aec-bc80-9450b6811727"
      },
      "execution_count": null,
      "outputs": [
        {
          "output_type": "stream",
          "name": "stdout",
          "text": [
            "To request a limit increase for your credit card, you can call 18005551234 or submit a request online. The bank will review your account and credit history as part of the process.\n"
          ]
        }
      ]
    },
    {
      "cell_type": "code",
      "source": [
        "result = afterrag.invoke(\"What are the fees for your investment service?\")\n",
        "print(result['result'])"
      ],
      "metadata": {
        "id": "WwEFYIO634UH",
        "colab": {
          "base_uri": "https://localhost:8080/"
        },
        "outputId": "070e44c7-840e-45fc-ab35-e5584c63d64b"
      },
      "execution_count": null,
      "outputs": [
        {
          "output_type": "stream",
          "name": "stdout",
          "text": [
            "Our investment service charges a 0.5 percent annual fee based on assets. There are no additional trading fees for standard portfolios. If you would like a detailed schedule of all fees, please let us know.\n"
          ]
        }
      ]
    },
    {
      "cell_type": "code",
      "source": [
        "result = afterrag.invoke(\"How do I download my checking statements from the mobile app?\")\n",
        "print(result['result'])"
      ],
      "metadata": {
        "colab": {
          "base_uri": "https://localhost:8080/"
        },
        "id": "biq8xObV3buK",
        "outputId": "e55bba64-736f-4bb7-d94a-0c749ce3d8a0"
      },
      "execution_count": null,
      "outputs": [
        {
          "output_type": "stream",
          "name": "stdout",
          "text": [
            "To download your checking statements from the mobile app, follow these steps:\n",
            "\n",
            "1. Open the app.\n",
            "2. Go to the \"Accounts\" section.\n",
            "3. Select your checking account.\n",
            "4. Tap on \"Statements.\"\n",
            "5. Choose the month for which you want to download the statement.\n",
            "6. Click on \"Download PDF.\"\n",
            "\n",
            "Make sure you have a PDF viewer installed on your device to open the downloaded statements.\n"
          ]
        }
      ]
    },
    {
      "cell_type": "markdown",
      "source": [
        "**Try asked about question that not related with financial customer service dataset**"
      ],
      "metadata": {
        "id": "u1NxJOXx48nu"
      }
    },
    {
      "cell_type": "code",
      "source": [
        "result = afterrag.invoke(\"What is AWS?\")\n",
        "print(result['result'])"
      ],
      "metadata": {
        "colab": {
          "base_uri": "https://localhost:8080/"
        },
        "id": "t8OA85vD3cT-",
        "outputId": "0aa8f13d-7082-4de8-bd74-6c90d48f4737"
      },
      "execution_count": null,
      "outputs": [
        {
          "output_type": "stream",
          "name": "stdout",
          "text": [
            "I don't know the answer to that question based on the provided context.\n"
          ]
        }
      ]
    },
    {
      "cell_type": "markdown",
      "source": [
        "**Try asked about question that similar with financial customer service dataset**"
      ],
      "metadata": {
        "id": "cAFIoU286y43"
      }
    },
    {
      "cell_type": "code",
      "source": [
        "result = afterrag.invoke(\"Can I apply for a higher credit card limit online?\")\n",
        "print(result['result'])"
      ],
      "metadata": {
        "colab": {
          "base_uri": "https://localhost:8080/"
        },
        "id": "DRnb1ap66t87",
        "outputId": "06df79c0-7a39-49b6-afe7-f40e7f312a3a"
      },
      "execution_count": null,
      "outputs": [
        {
          "output_type": "stream",
          "name": "stdout",
          "text": [
            "Yes, you can apply for a higher credit card limit online. To request a limit increase, you can either call 18005551234 or submit a request through the online portal. The bank will review your account and credit history as part of the process.\n"
          ]
        }
      ]
    },
    {
      "cell_type": "code",
      "source": [
        "result = afterrag.invoke(\"Can you explain the fees involved in your investment plans?\")\n",
        "print(result['result'])"
      ],
      "metadata": {
        "colab": {
          "base_uri": "https://localhost:8080/"
        },
        "id": "jB7zZt905Gah",
        "outputId": "0765d026-3d5a-45dd-a754-d1966ef5194d"
      },
      "execution_count": null,
      "outputs": [
        {
          "output_type": "stream",
          "name": "stdout",
          "text": [
            "Our investment service charges a 0.5 percent annual fee based on the assets under management. There are no additional trading fees for standard portfolios. If you need a detailed schedule of all fees, please feel free to ask!\n"
          ]
        }
      ]
    },
    {
      "cell_type": "code",
      "source": [
        "result = afterrag.invoke(\"How do I access my past checking statements?\")\n",
        "print(result['result'])"
      ],
      "metadata": {
        "colab": {
          "base_uri": "https://localhost:8080/"
        },
        "id": "lpOSRt9y7Uhx",
        "outputId": "a4436813-3b09-4ddd-bec0-6c5def55207c"
      },
      "execution_count": null,
      "outputs": [
        {
          "output_type": "stream",
          "name": "stdout",
          "text": [
            "To access your past checking statements, you can follow these steps:\n",
            "\n",
            "1. Open the mobile app.\n",
            "2. Go to the \"Accounts\" section.\n",
            "3. Select your checking account.\n",
            "4. Tap on \"Statements.\"\n",
            "5. Choose the desired month from the list.\n",
            "6. Click \"Download PDF.\"\n",
            "\n",
            "Ensure you have a PDF viewer installed on your device to view the statements. If you need further assistance, you can visit our website or contact our customer support.\n"
          ]
        }
      ]
    }
  ],
  "metadata": {
    "colab": {
      "provenance": []
    },
    "kernelspec": {
      "display_name": "Python 3",
      "name": "python3"
    },
    "language_info": {
      "name": "python"
    }
  },
  "nbformat": 4,
  "nbformat_minor": 0
}