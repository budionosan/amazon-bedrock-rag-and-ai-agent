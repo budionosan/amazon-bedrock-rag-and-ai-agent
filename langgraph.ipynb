{
  "cells": [
    {
      "cell_type": "markdown",
      "source": [
        "**AI Agent using Langgraph, Langchain and Amazon Nova Premier**\n",
        "\n",
        "Use case : AI Candidate Screening.\n",
        "\n",
        "This agent help you analyze CV against job requirements, give result for the next step of the recruitment process and create interview question."
      ],
      "metadata": {
        "id": "gPJd4s7wtf3b"
      }
    },
    {
      "cell_type": "code",
      "execution_count": null,
      "metadata": {
        "colab": {
          "base_uri": "https://localhost:8080/"
        },
        "id": "2FFQcpsPbDx3",
        "outputId": "2a2abb7e-2e48-4676-b160-206d555fc83a",
        "collapsed": true
      },
      "outputs": [
        {
          "output_type": "stream",
          "name": "stdout",
          "text": [
            "Requirement already satisfied: python-dotenv in /usr/local/lib/python3.11/dist-packages (1.1.1)\n",
            "Requirement already satisfied: packaging in /usr/local/lib/python3.11/dist-packages (25.0)\n",
            "Requirement already satisfied: langchain in /usr/local/lib/python3.11/dist-packages (0.3.26)\n",
            "Requirement already satisfied: langchain-aws in /usr/local/lib/python3.11/dist-packages (0.2.29)\n",
            "Requirement already satisfied: langgraph in /usr/local/lib/python3.11/dist-packages (0.5.4)\n",
            "Requirement already satisfied: pypdf in /usr/local/lib/python3.11/dist-packages (5.8.0)\n",
            "Requirement already satisfied: langchain-core<1.0.0,>=0.3.66 in /usr/local/lib/python3.11/dist-packages (from langchain) (0.3.71)\n",
            "Requirement already satisfied: langchain-text-splitters<1.0.0,>=0.3.8 in /usr/local/lib/python3.11/dist-packages (from langchain) (0.3.8)\n",
            "Requirement already satisfied: langsmith>=0.1.17 in /usr/local/lib/python3.11/dist-packages (from langchain) (0.4.8)\n",
            "Requirement already satisfied: pydantic<3.0.0,>=2.7.4 in /usr/local/lib/python3.11/dist-packages (from langchain) (2.11.7)\n",
            "Requirement already satisfied: SQLAlchemy<3,>=1.4 in /usr/local/lib/python3.11/dist-packages (from langchain) (2.0.41)\n",
            "Requirement already satisfied: requests<3,>=2 in /usr/local/lib/python3.11/dist-packages (from langchain) (2.32.3)\n",
            "Requirement already satisfied: PyYAML>=5.3 in /usr/local/lib/python3.11/dist-packages (from langchain) (6.0.2)\n",
            "Requirement already satisfied: boto3>=1.39.7 in /usr/local/lib/python3.11/dist-packages (from langchain-aws) (1.39.14)\n",
            "Requirement already satisfied: numpy<2,>=1 in /usr/local/lib/python3.11/dist-packages (from langchain-aws) (1.26.4)\n",
            "Requirement already satisfied: langgraph-checkpoint<3.0.0,>=2.1.0 in /usr/local/lib/python3.11/dist-packages (from langgraph) (2.1.1)\n",
            "Requirement already satisfied: langgraph-prebuilt<0.6.0,>=0.5.0 in /usr/local/lib/python3.11/dist-packages (from langgraph) (0.5.2)\n",
            "Requirement already satisfied: langgraph-sdk<0.2.0,>=0.1.42 in /usr/local/lib/python3.11/dist-packages (from langgraph) (0.1.74)\n",
            "Requirement already satisfied: xxhash>=3.5.0 in /usr/local/lib/python3.11/dist-packages (from langgraph) (3.5.0)\n",
            "Requirement already satisfied: botocore<1.40.0,>=1.39.14 in /usr/local/lib/python3.11/dist-packages (from boto3>=1.39.7->langchain-aws) (1.39.14)\n",
            "Requirement already satisfied: jmespath<2.0.0,>=0.7.1 in /usr/local/lib/python3.11/dist-packages (from boto3>=1.39.7->langchain-aws) (1.0.1)\n",
            "Requirement already satisfied: s3transfer<0.14.0,>=0.13.0 in /usr/local/lib/python3.11/dist-packages (from boto3>=1.39.7->langchain-aws) (0.13.1)\n",
            "Requirement already satisfied: tenacity!=8.4.0,<10.0.0,>=8.1.0 in /usr/local/lib/python3.11/dist-packages (from langchain-core<1.0.0,>=0.3.66->langchain) (8.5.0)\n",
            "Requirement already satisfied: jsonpatch<2.0,>=1.33 in /usr/local/lib/python3.11/dist-packages (from langchain-core<1.0.0,>=0.3.66->langchain) (1.33)\n",
            "Requirement already satisfied: typing-extensions>=4.7 in /usr/local/lib/python3.11/dist-packages (from langchain-core<1.0.0,>=0.3.66->langchain) (4.14.1)\n",
            "Requirement already satisfied: ormsgpack>=1.10.0 in /usr/local/lib/python3.11/dist-packages (from langgraph-checkpoint<3.0.0,>=2.1.0->langgraph) (1.10.0)\n",
            "Requirement already satisfied: httpx>=0.25.2 in /usr/local/lib/python3.11/dist-packages (from langgraph-sdk<0.2.0,>=0.1.42->langgraph) (0.28.1)\n",
            "Requirement already satisfied: orjson>=3.10.1 in /usr/local/lib/python3.11/dist-packages (from langgraph-sdk<0.2.0,>=0.1.42->langgraph) (3.11.0)\n",
            "Requirement already satisfied: requests-toolbelt<2.0.0,>=1.0.0 in /usr/local/lib/python3.11/dist-packages (from langsmith>=0.1.17->langchain) (1.0.0)\n",
            "Requirement already satisfied: zstandard<0.24.0,>=0.23.0 in /usr/local/lib/python3.11/dist-packages (from langsmith>=0.1.17->langchain) (0.23.0)\n",
            "Requirement already satisfied: annotated-types>=0.6.0 in /usr/local/lib/python3.11/dist-packages (from pydantic<3.0.0,>=2.7.4->langchain) (0.7.0)\n",
            "Requirement already satisfied: pydantic-core==2.33.2 in /usr/local/lib/python3.11/dist-packages (from pydantic<3.0.0,>=2.7.4->langchain) (2.33.2)\n",
            "Requirement already satisfied: typing-inspection>=0.4.0 in /usr/local/lib/python3.11/dist-packages (from pydantic<3.0.0,>=2.7.4->langchain) (0.4.1)\n",
            "Requirement already satisfied: charset-normalizer<4,>=2 in /usr/local/lib/python3.11/dist-packages (from requests<3,>=2->langchain) (3.4.2)\n",
            "Requirement already satisfied: idna<4,>=2.5 in /usr/local/lib/python3.11/dist-packages (from requests<3,>=2->langchain) (3.10)\n",
            "Requirement already satisfied: urllib3<3,>=1.21.1 in /usr/local/lib/python3.11/dist-packages (from requests<3,>=2->langchain) (2.5.0)\n",
            "Requirement already satisfied: certifi>=2017.4.17 in /usr/local/lib/python3.11/dist-packages (from requests<3,>=2->langchain) (2025.7.14)\n",
            "Requirement already satisfied: greenlet>=1 in /usr/local/lib/python3.11/dist-packages (from SQLAlchemy<3,>=1.4->langchain) (3.2.3)\n",
            "Requirement already satisfied: python-dateutil<3.0.0,>=2.1 in /usr/local/lib/python3.11/dist-packages (from botocore<1.40.0,>=1.39.14->boto3>=1.39.7->langchain-aws) (2.9.0.post0)\n",
            "Requirement already satisfied: anyio in /usr/local/lib/python3.11/dist-packages (from httpx>=0.25.2->langgraph-sdk<0.2.0,>=0.1.42->langgraph) (4.9.0)\n",
            "Requirement already satisfied: httpcore==1.* in /usr/local/lib/python3.11/dist-packages (from httpx>=0.25.2->langgraph-sdk<0.2.0,>=0.1.42->langgraph) (1.0.9)\n",
            "Requirement already satisfied: h11>=0.16 in /usr/local/lib/python3.11/dist-packages (from httpcore==1.*->httpx>=0.25.2->langgraph-sdk<0.2.0,>=0.1.42->langgraph) (0.16.0)\n",
            "Requirement already satisfied: jsonpointer>=1.9 in /usr/local/lib/python3.11/dist-packages (from jsonpatch<2.0,>=1.33->langchain-core<1.0.0,>=0.3.66->langchain) (3.0.0)\n",
            "Requirement already satisfied: six>=1.5 in /usr/local/lib/python3.11/dist-packages (from python-dateutil<3.0.0,>=2.1->botocore<1.40.0,>=1.39.14->boto3>=1.39.7->langchain-aws) (1.17.0)\n",
            "Requirement already satisfied: sniffio>=1.1 in /usr/local/lib/python3.11/dist-packages (from anyio->httpx>=0.25.2->langgraph-sdk<0.2.0,>=0.1.42->langgraph) (1.3.1)\n"
          ]
        }
      ],
      "source": [
        "# Install langgraph, AWS and langchain\n",
        "!pip install python-dotenv packaging langchain langchain-aws langgraph pypdf"
      ]
    },
    {
      "cell_type": "code",
      "source": [
        "import os\n",
        "# Load environment and save AWS token\n",
        "from dotenv import load_dotenv\n",
        "load_dotenv(\"awskey.txt\")\n",
        "# Get AWS access key, AWS secret key and AWS region\n",
        "accesskey = os.getenv(\"AWS_ACCESS_KEY\")\n",
        "secretkey = os.getenv(\"AWS_SECRET_KEY\")\n",
        "region = os.getenv(\"AWS_REGION\")"
      ],
      "metadata": {
        "id": "ybq_SycUVPCF"
      },
      "execution_count": null,
      "outputs": []
    },
    {
      "cell_type": "markdown",
      "source": [
        "**Structure of this AI Agent**\n",
        "\n",
        "**User --> Extract CV --> Compare and Match between Requirements and CV --> Result to the next step of the recruitment process --> Create Interview Question --> End**"
      ],
      "metadata": {
        "id": "bE0QvEYRdtFq"
      }
    },
    {
      "cell_type": "code",
      "source": [
        "# Import Langgraph\n",
        "from langchain_aws import ChatBedrock\n",
        "from langgraph.prebuilt import create_react_agent\n",
        "from langgraph.graph import StateGraph, START, END, MessagesState\n",
        "from langgraph.types import Command"
      ],
      "metadata": {
        "id": "LZumQOY0Dqqt"
      },
      "execution_count": null,
      "outputs": []
    },
    {
      "cell_type": "code",
      "source": [
        "# Use Amazon Nova Premier\n",
        "model = ChatBedrock(\n",
        "    model = \"us.amazon.nova-premier-v1:0\",\n",
        "    region = region, aws_access_key_id = accesskey, aws_secret_access_key = secretkey\n",
        ")"
      ],
      "metadata": {
        "id": "d83ohyQnD_9v"
      },
      "execution_count": null,
      "outputs": []
    },
    {
      "cell_type": "code",
      "source": [
        "# Extract CV PDF file\n",
        "from pypdf import PdfReader\n",
        "reader = PdfReader(\"Always Winner CV.pdf\")\n",
        "page = reader.pages[0]\n",
        "text = page.extract_text()\n",
        "print(text)"
      ],
      "metadata": {
        "colab": {
          "base_uri": "https://localhost:8080/"
        },
        "id": "CeHfG_hOZ_iP",
        "outputId": "42fc8790-96c7-41c1-cf7d-bf1c8b8bb95c",
        "collapsed": true
      },
      "execution_count": null,
      "outputs": [
        {
          "output_type": "stream",
          "name": "stdout",
          "text": [
            "Name  :  Always  Winner  \n",
            "Phone  Number  :  000888999  \n",
            "Email  Address  :  alwayswinner@gmail.com \n",
            "Work  Experience  :   \n",
            "AI  Engineer,  Winner,  LLC  |  New  York  City,  NY  |  January  1,  2025  –  Present  \n",
            "Junior  AI  Engineer,  Nerwin,  LLC  |  New  York  City,  NY  |  January  1,  2024  –  December  31,  2024  \n",
            "Education  :   \n",
            "Bachelor  of  Artificial  Intelligence  |  University  of  AI  Everywhere  |  New  York  City,  NY  |  2023  \n",
            "Technical  Skills  :   \n",
            "●  Programming  Languages:  Python  (TensorFlow,  PyTorch,  Keras,  scikit-learn,  Hugging  \n",
            "Face\n",
            " \n",
            "Transformers),\n",
            " \n",
            "Java,\n",
            " \n",
            "C++\n",
            " ●  Generative  AI:  GANs  (StyleGAN,  BigGAN),  VAEs,  Diffusion  Models,  Autoregressive  \n",
            "Models,\n",
            " \n",
            "LLMs\n",
            " \n",
            "(GPT,\n",
            " \n",
            "BERT,\n",
            " \n",
            "LLaMA),\n",
            " \n",
            "Stable\n",
            " \n",
            "Diffusion\n",
            " ●  Agentic  AI  ●  Machine  Learning:  Supervised  Learning,  Unsupervised  Learning,  Transfer  Learning,  \n",
            "Model\n",
            " \n",
            "Optimization,\n",
            " \n",
            "Hyperparameter\n",
            " \n",
            "Tuning\n",
            " ●  Cloud  Platforms:  AWS  (Sagemaker,  EC2,  S3),  Azure  (Azure  ML),  Google  Cloud  \n",
            "Platform\n",
            " \n",
            "(Vertex\n",
            " \n",
            "AI)\n",
            " ●  Tools  &  Libraries:  Docker,  Kubernetes,  Git,  MLflow,  Weights  &  Biases,  Optuna  ●  Databases:  SQL,  NoSQL  ●  Other:  MLOps,  Data  Engineering,  API  Development,  Agile  Methodologies  \n",
            " \n"
          ]
        }
      ]
    },
    {
      "cell_type": "markdown",
      "source": [
        "**Create Compare and Match between Requirements and CV agent and Create first node**"
      ],
      "metadata": {
        "id": "-WhYKiAYqbxJ"
      }
    },
    {
      "cell_type": "code",
      "source": [
        "compareMatch = create_react_agent(\n",
        "    model,\n",
        "    tools=[],\n",
        "    prompt=\"\"\"\n",
        "    You are a virtual human resources expert. You help me compare and match between curriculum vitae and requirements like this :\n",
        "    1. Work across the AI lifecycle: from data preparation and model development to evaluation and deployment.\n",
        "    2. Fine-tune and integrate LLMs (like OpenAI and Claude) into ERP workflows.\n",
        "    3. Build smart features such as recommendation engines, forecasting modules, NLP tools, and more.\n",
        "    Preferred requirements :\n",
        "    Develop and maintain scalable cloud-based AI solutions across multi-cloud platforms (AWS, GCP, Azure).\n",
        "    Then write output structure like this:\n",
        "    MINIMAL REQUIREMENTS ANALYSIS :\n",
        "\n",
        "    Requirement 1:\n",
        "\n",
        "    Requirement n (n is the number of requirement):\n",
        "\n",
        "    PREFERRED REQUIREMENTS ANALYSIS :\n",
        "\n",
        "    OVERALL MATCH PERCENTAGE :\n",
        "\n",
        "    Strengths:\n",
        "\n",
        "    Potential Gaps:\n",
        "    \"\"\"\n",
        ")\n",
        "\n",
        "def compareMatchNode(state: MessagesState):\n",
        "    result = compareMatch.invoke(state)\n",
        "    return Command(update={\"messages\": result[\"messages\"]}, goto=\"resultNextStep\")"
      ],
      "metadata": {
        "id": "qN7cR0V0NBT6"
      },
      "execution_count": null,
      "outputs": []
    },
    {
      "cell_type": "markdown",
      "source": [
        "**Create Result to the next step of the recruitment process agent and Create second node**"
      ],
      "metadata": {
        "id": "tXp3cyYdvFOM"
      }
    },
    {
      "cell_type": "code",
      "source": [
        "resultNextStep = create_react_agent(\n",
        "    model,\n",
        "    tools=[],\n",
        "    prompt=\"\"\"\n",
        "    You are a virtual human resources expert. You help me add value from 0 until 10 to the next step of recruitment process.\n",
        "    Write output structure MUST like example this :\n",
        "    RESULT : ..... of 10\n",
        "    \"\"\"\n",
        ")\n",
        "\n",
        "def resultNextStepNode(state: MessagesState):\n",
        "    result = resultNextStep.invoke(state)\n",
        "    return Command(update={\"messages\": result[\"messages\"]}, goto=\"createInterviewQuestion\")"
      ],
      "metadata": {
        "id": "gHw52AwpNB2P"
      },
      "execution_count": null,
      "outputs": []
    },
    {
      "cell_type": "markdown",
      "source": [
        "**Create Interview Questions agent and Create third node**"
      ],
      "metadata": {
        "id": "TlJHH9JyxJ_s"
      }
    },
    {
      "cell_type": "code",
      "source": [
        "createInterviewQuestion = create_react_agent(\n",
        "    model,\n",
        "    tools=[],\n",
        "    prompt=\"\"\"\n",
        "    You are a virtual human resources expert. You help me create 3 interview questions about CV PDF file that already extracted.\n",
        "    BUT if result are is LESS THAN 7 of 10, don't create interview questions.\n",
        "    Otherwise, create 3 interview questions about CV PDF file that already extracted.\n",
        "    Write output structure MUST like example this :\n",
        "    QUESTION 1 : .....\n",
        "    QUESTION 2 : .....\n",
        "    QUESTION 3 : .....\n",
        "    \"\"\"\n",
        ")\n",
        "\n",
        "def createInterviewQuestionNode(state: MessagesState):\n",
        "    result = createInterviewQuestion.invoke(state)\n",
        "    return Command(update={\"messages\": result[\"messages\"]}, goto=END)"
      ],
      "metadata": {
        "id": "VUQbWc8TrFo1"
      },
      "execution_count": null,
      "outputs": []
    },
    {
      "cell_type": "markdown",
      "source": [
        "**Create AI Agent Graph then Connect between Graphs and Nodes**"
      ],
      "metadata": {
        "id": "FM39H-qVvdwb"
      }
    },
    {
      "cell_type": "code",
      "source": [
        "# Create StateGraph\n",
        "workflow = StateGraph(MessagesState)\n",
        "# Connect between first graph and node\n",
        "workflow.add_node(\"compareMatch\", compareMatchNode)\n",
        "# Connect between second graph and node\n",
        "workflow.add_node(\"resultNextStep\", resultNextStepNode)\n",
        "# Connect between third graph and node\n",
        "workflow.add_node(\"createInterviewQuestion\", createInterviewQuestionNode)\n",
        "\n",
        "# Start from first graph and node\n",
        "workflow.add_edge(START, \"compareMatch\")\n",
        "# Go to second graph and node\n",
        "workflow.add_edge(\"compareMatch\", \"resultNextStep\")\n",
        "# Go to third graph and node\n",
        "workflow.add_edge(\"resultNextStep\", \"createInterviewQuestion\")\n",
        "# Finish end\n",
        "workflow.add_edge(\"createInterviewQuestion\", END)\n",
        "graph = workflow.compile()"
      ],
      "metadata": {
        "id": "r7Xy8yfZNB7r"
      },
      "execution_count": null,
      "outputs": []
    },
    {
      "cell_type": "markdown",
      "source": [
        "**Run AI Agent Graph then see Result**"
      ],
      "metadata": {
        "id": "EOpT7dgZyg0m"
      }
    },
    {
      "cell_type": "code",
      "source": [
        "# Always Winner CV PDF file\n",
        "events = graph.invoke(\n",
        "    {\n",
        "        \"messages\": [\n",
        "            (\"user\", f\"{text}\")\n",
        "        ],\n",
        "    },\n",
        ")\n",
        "messages = events[\"messages\"]\n",
        "print(messages)"
      ],
      "metadata": {
        "colab": {
          "base_uri": "https://localhost:8080/"
        },
        "id": "TEaGjH9B3-wt",
        "outputId": "7a4712b6-80bc-4fcc-c802-aefb44108a94"
      },
      "execution_count": null,
      "outputs": [
        {
          "output_type": "stream",
          "name": "stdout",
          "text": [
            "[HumanMessage(content='Name  :  Always  Winner  \\nPhone  Number  :  000888999  \\nEmail  Address  :  alwayswinner@gmail.com \\nWork  Experience  :   \\nAI  Engineer,  Winner,  LLC  |  New  York  City,  NY  |  January  1,  2025  –  Present  \\nJunior  AI  Engineer,  Nerwin,  LLC  |  New  York  City,  NY  |  January  1,  2024  –  December  31,  2024  \\nEducation  :   \\nBachelor  of  Artificial  Intelligence  |  University  of  AI  Everywhere  |  New  York  City,  NY  |  2023  \\nTechnical  Skills  :   \\n●  Programming  Languages:  Python  (TensorFlow,  PyTorch,  Keras,  scikit-learn,  Hugging  \\nFace\\n \\nTransformers),\\n \\nJava,\\n \\nC++\\n ●  Generative  AI:  GANs  (StyleGAN,  BigGAN),  VAEs,  Diffusion  Models,  Autoregressive  \\nModels,\\n \\nLLMs\\n \\n(GPT,\\n \\nBERT,\\n \\nLLaMA),\\n \\nStable\\n \\nDiffusion\\n ●  Agentic  AI  ●  Machine  Learning:  Supervised  Learning,  Unsupervised  Learning,  Transfer  Learning,  \\nModel\\n \\nOptimization,\\n \\nHyperparameter\\n \\nTuning\\n ●  Cloud  Platforms:  AWS  (Sagemaker,  EC2,  S3),  Azure  (Azure  ML),  Google  Cloud  \\nPlatform\\n \\n(Vertex\\n \\nAI)\\n ●  Tools  &  Libraries:  Docker,  Kubernetes,  Git,  MLflow,  Weights  &  Biases,  Optuna  ●  Databases:  SQL,  NoSQL  ●  Other:  MLOps,  Data  Engineering,  API  Development,  Agile  Methodologies  \\n ', additional_kwargs={}, response_metadata={}, id='18f41988-30b8-4673-94da-73995a2676a2'), AIMessage(content='MINIMAL REQUIREMENTS ANALYSIS :\\n\\nRequirement 1:\\n- The candidate has experience working as an AI Engineer and Junior AI Engineer, which implies involvement in the AI lifecycle.\\n\\nRequirement 2:\\n- The candidate has listed LLMs (like GPT, BERT, LLaMA) under their technical skills, indicating experience with fine-tuning and integrating these models.\\n\\nRequirement 3:\\n- The candidate has experience with generative AI, machine learning, and NLP tools, which are essential for building smart features like recommendation engines and forecasting modules.\\n\\nPREFERRED REQUIREMENTS ANALYSIS :\\n- The candidate has experience with AWS (Sagemaker, EC2, S3), Azure (Azure ML), and Google Cloud Platform (Vertex AI), demonstrating the ability to develop and maintain scalable cloud-based AI solutions across multi-cloud platforms.\\n\\nOVERALL MATCH PERCENTAGE : \\n- 90%\\n\\nStrengths:\\n- Extensive experience with LLMs and generative AI.\\n- Proficiency in multi-cloud platforms (AWS, Azure, GCP).\\n- Strong background in machine learning and NLP tools.\\n\\nPotential Gaps:\\n- Specific experience with ERP workflows is not explicitly mentioned.\\n- The duration of professional experience is relatively short (less than 2 years).', additional_kwargs={}, response_metadata={'ResponseMetadata': {'RequestId': 'b89da14e-0fba-407e-9529-c56c4f136ce0', 'HTTPStatusCode': 200, 'HTTPHeaders': {'date': 'Sun, 27 Jul 2025 07:15:29 GMT', 'content-type': 'application/json', 'content-length': '1406', 'connection': 'keep-alive', 'x-amzn-requestid': 'b89da14e-0fba-407e-9529-c56c4f136ce0'}, 'RetryAttempts': 0}, 'stopReason': 'end_turn', 'metrics': {'latencyMs': [4141]}, 'model_name': 'us.amazon.nova-premier-v1:0'}, id='run--0ce198e3-05fa-45ed-a947-80f49072135e-0', usage_metadata={'input_tokens': 657, 'output_tokens': 272, 'total_tokens': 929, 'input_token_details': {'cache_creation': 0, 'cache_read': 0}}), AIMessage(content='\\n\\nRESULT : 9 of 10\\n\\nThe candidate is highly qualified and meets most of the key requirements, with only minor gaps that could potentially be addressed through on-the-job learning or additional clarification during the interview process.', additional_kwargs={}, response_metadata={'ResponseMetadata': {'RequestId': '246a356c-cda7-4349-8151-b1ba47a62850', 'HTTPStatusCode': 200, 'HTTPHeaders': {'date': 'Sun, 27 Jul 2025 07:15:31 GMT', 'content-type': 'application/json', 'content-length': '424', 'connection': 'keep-alive', 'x-amzn-requestid': '246a356c-cda7-4349-8151-b1ba47a62850'}, 'RetryAttempts': 0}, 'stopReason': 'end_turn', 'metrics': {'latencyMs': [1569]}, 'model_name': 'us.amazon.nova-premier-v1:0'}, id='run--6b4776bf-7c40-4930-9dd4-3cc6a24160b8-0', usage_metadata={'input_tokens': 791, 'output_tokens': 50, 'total_tokens': 841, 'input_token_details': {'cache_creation': 0, 'cache_read': 0}}), AIMessage(content='\\n\\nQUESTION 1 : Can you describe a specific project where you fine-tuned and integrated a large language model (LLM) like GPT or BERT into a production environment? What challenges did you face and how did you overcome them?\\n\\nQUESTION 2 : How have you utilized your experience with multi-cloud platforms (AWS, Azure, GCP) to develop and maintain scalable AI solutions? Can you provide an example of a project that required cross-platform integration?\\n\\nQUESTION 3 : Given your background in generative AI and machine learning, how would you approach building a recommendation engine for a new e-commerce platform? What tools and methodologies would you use to ensure its effectiveness and scalability?', additional_kwargs={}, response_metadata={'ResponseMetadata': {'RequestId': '97d4a6cf-aa20-447c-8a35-b6acc531375d', 'HTTPStatusCode': 200, 'HTTPHeaders': {'date': 'Sun, 27 Jul 2025 07:15:34 GMT', 'content-type': 'application/json', 'content-length': '891', 'connection': 'keep-alive', 'x-amzn-requestid': '97d4a6cf-aa20-447c-8a35-b6acc531375d'}, 'RetryAttempts': 0}, 'stopReason': 'end_turn', 'metrics': {'latencyMs': [2793]}, 'model_name': 'us.amazon.nova-premier-v1:0'}, id='run--530fe8b2-557f-45e0-9ec2-d017c6eaa8db-0', usage_metadata={'input_tokens': 895, 'output_tokens': 149, 'total_tokens': 1044, 'input_token_details': {'cache_creation': 0, 'cache_read': 0}})]\n"
          ]
        }
      ]
    },
    {
      "cell_type": "code",
      "source": [
        "print(\"Compare and Match between Requirements and CV :\")\n",
        "print(messages[1].content)"
      ],
      "metadata": {
        "colab": {
          "base_uri": "https://localhost:8080/"
        },
        "id": "Vkmm41MN_0dj",
        "outputId": "1039b39c-c679-4db3-a8b9-e4b2f5024afb"
      },
      "execution_count": null,
      "outputs": [
        {
          "output_type": "stream",
          "name": "stdout",
          "text": [
            "Compare and Match between Requirements and CV :\n",
            "MINIMAL REQUIREMENTS ANALYSIS :\n",
            "\n",
            "Requirement 1:\n",
            "- The candidate has experience working as an AI Engineer and Junior AI Engineer, which implies involvement in the AI lifecycle.\n",
            "\n",
            "Requirement 2:\n",
            "- The candidate has listed LLMs (like GPT, BERT, LLaMA) under their technical skills, indicating experience with fine-tuning and integrating these models.\n",
            "\n",
            "Requirement 3:\n",
            "- The candidate has experience with generative AI, machine learning, and NLP tools, which are essential for building smart features like recommendation engines and forecasting modules.\n",
            "\n",
            "PREFERRED REQUIREMENTS ANALYSIS :\n",
            "- The candidate has experience with AWS (Sagemaker, EC2, S3), Azure (Azure ML), and Google Cloud Platform (Vertex AI), demonstrating the ability to develop and maintain scalable cloud-based AI solutions across multi-cloud platforms.\n",
            "\n",
            "OVERALL MATCH PERCENTAGE : \n",
            "- 90%\n",
            "\n",
            "Strengths:\n",
            "- Extensive experience with LLMs and generative AI.\n",
            "- Proficiency in multi-cloud platforms (AWS, Azure, GCP).\n",
            "- Strong background in machine learning and NLP tools.\n",
            "\n",
            "Potential Gaps:\n",
            "- Specific experience with ERP workflows is not explicitly mentioned.\n",
            "- The duration of professional experience is relatively short (less than 2 years).\n"
          ]
        }
      ]
    },
    {
      "cell_type": "code",
      "source": [
        "print(\"Result to the next step of the recruitment process :\")\n",
        "print(messages[2].content)"
      ],
      "metadata": {
        "colab": {
          "base_uri": "https://localhost:8080/"
        },
        "id": "c6SQF8OH_3dB",
        "outputId": "ec2530dc-47d9-4560-abfa-c4a8af0eb3b3"
      },
      "execution_count": null,
      "outputs": [
        {
          "output_type": "stream",
          "name": "stdout",
          "text": [
            "Result to the next step of the recruitment process :\n",
            "\n",
            "\n",
            "RESULT : 9 of 10\n",
            "\n",
            "The candidate is highly qualified and meets most of the key requirements, with only minor gaps that could potentially be addressed through on-the-job learning or additional clarification during the interview process.\n"
          ]
        }
      ]
    },
    {
      "cell_type": "code",
      "source": [
        "print(\"Interview Questions :\")\n",
        "print(messages[3].content)"
      ],
      "metadata": {
        "colab": {
          "base_uri": "https://localhost:8080/"
        },
        "id": "dnYPRH5Wt-de",
        "outputId": "2dd3eeb5-d94a-4e27-9172-b8b19783acde"
      },
      "execution_count": null,
      "outputs": [
        {
          "output_type": "stream",
          "name": "stdout",
          "text": [
            "Interview Questions :\n",
            "\n",
            "\n",
            "QUESTION 1 : Can you describe a specific project where you fine-tuned and integrated a large language model (LLM) like GPT or BERT into a production environment? What challenges did you face and how did you overcome them?\n",
            "\n",
            "QUESTION 2 : How have you utilized your experience with multi-cloud platforms (AWS, Azure, GCP) to develop and maintain scalable AI solutions? Can you provide an example of a project that required cross-platform integration?\n",
            "\n",
            "QUESTION 3 : Given your background in generative AI and machine learning, how would you approach building a recommendation engine for a new e-commerce platform? What tools and methodologies would you use to ensure its effectiveness and scalability?\n"
          ]
        }
      ]
    },
    {
      "cell_type": "markdown",
      "source": [
        "**Try upload second CV PDF file**"
      ],
      "metadata": {
        "id": "0zhyxDYyyxgo"
      }
    },
    {
      "cell_type": "code",
      "source": [
        "# Extract CV PDF file\n",
        "from pypdf import PdfReader\n",
        "reader = PdfReader(\"Sonny Wawwak CV.pdf\")\n",
        "page = reader.pages[0]\n",
        "texted = page.extract_text()\n",
        "print(texted)"
      ],
      "metadata": {
        "colab": {
          "base_uri": "https://localhost:8080/"
        },
        "collapsed": true,
        "id": "KDCaXRgCefkE",
        "outputId": "887491a0-831b-49d6-e3fa-0354ffc8ab2a"
      },
      "execution_count": null,
      "outputs": [
        {
          "output_type": "stream",
          "name": "stdout",
          "text": [
            "Sonny  Wawwak  \n",
            "UI/UX\n",
            " \n",
            "Designer\n",
            " \n",
            "Address\n",
            " \n",
            ":\n",
            " \n",
            "Konoha\n",
            " \n",
            "Phone\n",
            " \n",
            ":\n",
            " \n",
            "+62\n",
            " \n",
            "812-3456-7890\n",
            " \n",
            "Email\n",
            " \n",
            "Address\n",
            " \n",
            ":\n",
            " \n",
            "sonny.wawwak@email.com\n",
            " \n",
            "Skills  ●  UI  Design  (Web  &  Mobile)  ●  UX  Research  &  Analysis  ●  Wireframing  &  Prototyping  ●  Design  Systems  &  Style  Guides  ●  User  Flows  &  Journey  Mapping  ●  Usability  Testing  ●  Tools:  Figma,  Adobe  XD,  Sketch,  InVision,  Photoshop,  Illustrator  ●  HTML,  CSS  (basic  understanding)  ●  Agile  &  Scrum  Workflow  \n",
            "Professional  Experience  UI/UX  Designer  \n",
            "PT\n",
            " \n",
            "I\n",
            " \n",
            "Don’t\n",
            " \n",
            "Know\n",
            " \n",
            "–\n",
            " \n",
            "Konoha\n",
            " \n",
            "Jan\n",
            " \n",
            "2022\n",
            " \n",
            "–\n",
            " \n",
            "Present\n",
            "  Junior  UI/UX  Designer  \n",
            "Know\n",
            " \n",
            "Money\n",
            " \n",
            "Only\n",
            " \n",
            "Studio\n",
            " \n",
            "–\n",
            " \n",
            "Konoha\n",
            " \n",
            "Aug\n",
            " \n",
            "2020\n",
            " \n",
            "–\n",
            " \n",
            "Dec\n",
            " \n",
            "2021\n",
            " \n",
            "Education  \n",
            "Bachelor’s  Degree  in  Visual  Communication  Design  \n",
            "Design\n",
            " \n",
            "Institute\n",
            " \n",
            "-\n",
            " \n",
            "Konoha\n",
            " \n",
            "2016\n",
            " \n",
            "–\n",
            " \n",
            "2020\n",
            " \n"
          ]
        }
      ]
    },
    {
      "cell_type": "code",
      "source": [
        "# Sonny Wawwak CV PDF file\n",
        "events_2 = graph.invoke(\n",
        "    {\n",
        "        \"messages\": [\n",
        "            (\"user\", f\"{texted}\")\n",
        "        ],\n",
        "    },\n",
        ")\n",
        "messages_2 = events_2[\"messages\"]\n",
        "print(messages_2)"
      ],
      "metadata": {
        "colab": {
          "base_uri": "https://localhost:8080/"
        },
        "id": "4aPdU4SqnWSY",
        "outputId": "3ebe42ea-9d34-4ff1-da45-46f49120f747"
      },
      "execution_count": null,
      "outputs": [
        {
          "output_type": "stream",
          "name": "stdout",
          "text": [
            "[HumanMessage(content='Sonny  Wawwak  \\nUI/UX\\n \\nDesigner\\n \\nAddress\\n \\n:\\n \\nKonoha\\n \\nPhone\\n \\n:\\n \\n+62\\n \\n812-3456-7890\\n \\nEmail\\n \\nAddress\\n \\n:\\n \\nsonny.wawwak@email.com\\n \\nSkills  ●  UI  Design  (Web  &  Mobile)  ●  UX  Research  &  Analysis  ●  Wireframing  &  Prototyping  ●  Design  Systems  &  Style  Guides  ●  User  Flows  &  Journey  Mapping  ●  Usability  Testing  ●  Tools:  Figma,  Adobe  XD,  Sketch,  InVision,  Photoshop,  Illustrator  ●  HTML,  CSS  (basic  understanding)  ●  Agile  &  Scrum  Workflow  \\nProfessional  Experience  UI/UX  Designer  \\nPT\\n \\nI\\n \\nDon’t\\n \\nKnow\\n \\n–\\n \\nKonoha\\n \\nJan\\n \\n2022\\n \\n–\\n \\nPresent\\n  Junior  UI/UX  Designer  \\nKnow\\n \\nMoney\\n \\nOnly\\n \\nStudio\\n \\n–\\n \\nKonoha\\n \\nAug\\n \\n2020\\n \\n–\\n \\nDec\\n \\n2021\\n \\nEducation  \\nBachelor’s  Degree  in  Visual  Communication  Design  \\nDesign\\n \\nInstitute\\n \\n-\\n \\nKonoha\\n \\n2016\\n \\n–\\n \\n2020\\n ', additional_kwargs={}, response_metadata={}, id='e9a4384e-6c11-4db1-9e5e-7da47347c42c'), AIMessage(content=\"MINIMAL REQUIREMENTS ANALYSIS :\\n\\nRequirement 1: Not met. Sonny Wawwak's CV does not mention any experience or skills related to working across the AI lifecycle, including data preparation, model development, evaluation, or deployment.\\n\\nRequirement 2: Not met. Sonny Wawwak's CV does not mention any experience or skills in fine-tuning and integrating LLMs or working with ERP workflows.\\n\\nRequirement 3: Not met. Sonny Wawwak's CV does not mention any experience or skills in building smart features such as recommendation engines, forecasting modules, or NLP tools.\\n\\nPREFERRED REQUIREMENTS ANALYSIS :\\n\\nDevelop and maintain scalable cloud-based AI solutions across multi-cloud platforms (AWS, GCP, Azure): Not met. Sonny Wawwak's CV does not mention any experience or skills related to developing or maintaining scalable cloud-based AI solutions or familiarity with AWS, GCP, or Azure.\\n\\nOVERALL MATCH PERCENTAGE : 0%\\n\\nStrengths:\\n- Strong background in UI/UX design, including wireframing, prototyping, and usability testing.\\n- Proficient in design tools like Figma, Adobe XD, Sketch, InVision, Photoshop, and Illustrator.\\n- Basic understanding of HTML and CSS.\\n- Experience with Agile and Scrum workflows.\\n\\nPotential Gaps:\\n- No experience or skills related to AI lifecycle, LLMs, ERP workflows, or building smart AI features.\\n- No experience with cloud platforms like AWS, GCP, or Azure.\\n- No background in AI or machine learning.\\n\\nSonny Wawwak's CV does not align with the specified requirements for the AI-focused role. His strengths lie in UI/UX design, which is unrelated to the job's core responsibilities.\", additional_kwargs={}, response_metadata={'ResponseMetadata': {'RequestId': 'ca983947-cfcf-4fb5-850e-a8c7e6f74feb', 'HTTPStatusCode': 200, 'HTTPHeaders': {'date': 'Sun, 27 Jul 2025 07:15:40 GMT', 'content-type': 'application/json', 'content-length': '1820', 'connection': 'keep-alive', 'x-amzn-requestid': 'ca983947-cfcf-4fb5-850e-a8c7e6f74feb'}, 'RetryAttempts': 0}, 'stopReason': 'end_turn', 'metrics': {'latencyMs': [5239]}, 'model_name': 'us.amazon.nova-premier-v1:0'}, id='run--c1f05691-dd75-40ab-94b1-f8778e28faad-0', usage_metadata={'input_tokens': 559, 'output_tokens': 372, 'total_tokens': 931, 'input_token_details': {'cache_creation': 0, 'cache_read': 0}}), AIMessage(content='\\n\\nRESULT : 0 of 10\\n\\n**Recommendation**: Sonny Wawwak may not be a suitable candidate for the AI-focused position based on the provided CV. However, he could be considered for UI/UX design roles where his skills and experience would be highly valuable.', additional_kwargs={}, response_metadata={'ResponseMetadata': {'RequestId': 'abe4c1cd-421a-49f5-b8bb-fb31493ec134', 'HTTPStatusCode': 200, 'HTTPHeaders': {'date': 'Sun, 27 Jul 2025 07:15:41 GMT', 'content-type': 'application/json', 'content-length': '439', 'connection': 'keep-alive', 'x-amzn-requestid': 'abe4c1cd-421a-49f5-b8bb-fb31493ec134'}, 'RetryAttempts': 0}, 'stopReason': 'end_turn', 'metrics': {'latencyMs': [1402]}, 'model_name': 'us.amazon.nova-premier-v1:0'}, id='run--d9bfd7ab-8a3a-4f6b-80b1-8d509963e518-0', usage_metadata={'input_tokens': 793, 'output_tokens': 60, 'total_tokens': 853, 'input_token_details': {'cache_creation': 0, 'cache_read': 0}}), AIMessage(content='\\n\\nSince the result is less than 7 of 10, I will not create interview questions.', additional_kwargs={}, response_metadata={'ResponseMetadata': {'RequestId': '3142c3cb-c015-46bc-8f91-50ddfe7f6b45', 'HTTPStatusCode': 200, 'HTTPHeaders': {'date': 'Sun, 27 Jul 2025 07:15:42 GMT', 'content-type': 'application/json', 'content-length': '264', 'connection': 'keep-alive', 'x-amzn-requestid': '3142c3cb-c015-46bc-8f91-50ddfe7f6b45'}, 'RetryAttempts': 0}, 'stopReason': 'end_turn', 'metrics': {'latencyMs': [977]}, 'model_name': 'us.amazon.nova-premier-v1:0'}, id='run--86b65daf-269b-4456-a7f7-ea4c637bf5c4-0', usage_metadata={'input_tokens': 907, 'output_tokens': 22, 'total_tokens': 929, 'input_token_details': {'cache_creation': 0, 'cache_read': 0}})]\n"
          ]
        }
      ]
    },
    {
      "cell_type": "code",
      "source": [
        "print(\"Compare and Match between Requirements and CV :\")\n",
        "print(messages_2[1].content)"
      ],
      "metadata": {
        "colab": {
          "base_uri": "https://localhost:8080/"
        },
        "id": "MmlmslxZnfZH",
        "outputId": "2fa8ad6c-c149-484b-f8b4-9038a50ea13d"
      },
      "execution_count": null,
      "outputs": [
        {
          "output_type": "stream",
          "name": "stdout",
          "text": [
            "Compare and Match between Requirements and CV :\n",
            "MINIMAL REQUIREMENTS ANALYSIS :\n",
            "\n",
            "Requirement 1: Not met. Sonny Wawwak's CV does not mention any experience or skills related to working across the AI lifecycle, including data preparation, model development, evaluation, or deployment.\n",
            "\n",
            "Requirement 2: Not met. Sonny Wawwak's CV does not mention any experience or skills in fine-tuning and integrating LLMs or working with ERP workflows.\n",
            "\n",
            "Requirement 3: Not met. Sonny Wawwak's CV does not mention any experience or skills in building smart features such as recommendation engines, forecasting modules, or NLP tools.\n",
            "\n",
            "PREFERRED REQUIREMENTS ANALYSIS :\n",
            "\n",
            "Develop and maintain scalable cloud-based AI solutions across multi-cloud platforms (AWS, GCP, Azure): Not met. Sonny Wawwak's CV does not mention any experience or skills related to developing or maintaining scalable cloud-based AI solutions or familiarity with AWS, GCP, or Azure.\n",
            "\n",
            "OVERALL MATCH PERCENTAGE : 0%\n",
            "\n",
            "Strengths:\n",
            "- Strong background in UI/UX design, including wireframing, prototyping, and usability testing.\n",
            "- Proficient in design tools like Figma, Adobe XD, Sketch, InVision, Photoshop, and Illustrator.\n",
            "- Basic understanding of HTML and CSS.\n",
            "- Experience with Agile and Scrum workflows.\n",
            "\n",
            "Potential Gaps:\n",
            "- No experience or skills related to AI lifecycle, LLMs, ERP workflows, or building smart AI features.\n",
            "- No experience with cloud platforms like AWS, GCP, or Azure.\n",
            "- No background in AI or machine learning.\n",
            "\n",
            "Sonny Wawwak's CV does not align with the specified requirements for the AI-focused role. His strengths lie in UI/UX design, which is unrelated to the job's core responsibilities.\n"
          ]
        }
      ]
    },
    {
      "cell_type": "code",
      "source": [
        "print(\"Result to the next step of the recruitment process :\")\n",
        "print(messages_2[2].content)"
      ],
      "metadata": {
        "colab": {
          "base_uri": "https://localhost:8080/"
        },
        "id": "ov1WUYc4niRf",
        "outputId": "3b61c1a9-8750-4b87-a8d3-710580307054"
      },
      "execution_count": null,
      "outputs": [
        {
          "output_type": "stream",
          "name": "stdout",
          "text": [
            "Result to the next step of the recruitment process :\n",
            "\n",
            "\n",
            "RESULT : 0 of 10\n",
            "\n",
            "**Recommendation**: Sonny Wawwak may not be a suitable candidate for the AI-focused position based on the provided CV. However, he could be considered for UI/UX design roles where his skills and experience would be highly valuable.\n"
          ]
        }
      ]
    },
    {
      "cell_type": "code",
      "source": [
        "print(\"Interview Questions :\")\n",
        "print(messages_2[3].content)"
      ],
      "metadata": {
        "colab": {
          "base_uri": "https://localhost:8080/"
        },
        "id": "2UCp8sgAuDTX",
        "outputId": "14265040-6a33-4f34-e2d8-9f9611a864ab"
      },
      "execution_count": null,
      "outputs": [
        {
          "output_type": "stream",
          "name": "stdout",
          "text": [
            "Interview Questions\n",
            "\n",
            "\n",
            "Since the result is less than 7 of 10, I will not create interview questions.\n"
          ]
        }
      ]
    },
    {
      "cell_type": "code",
      "source": [
        "from IPython.display import Image\n",
        "\n",
        "Image(graph.get_graph().draw_mermaid_png())"
      ],
      "metadata": {
        "colab": {
          "base_uri": "https://localhost:8080/",
          "height": 449
        },
        "id": "1GBTbbo5nlYI",
        "outputId": "818adadb-fb87-4dfe-84e3-45968f99847e"
      },
      "execution_count": null,
      "outputs": [
        {
          "output_type": "execute_result",
          "data": {
            "image/png": "[encoded data removed]",
            "text/plain": [
              "<IPython.core.display.Image object>"
            ]
          },
          "metadata": {},
          "execution_count": 19
        }
      ]
    },
    {
      "cell_type": "code",
      "source": [],
      "metadata": {
        "id": "U6_n0-Q4prTJ"
      },
      "execution_count": null,
      "outputs": []
    }
  ],
  "metadata": {
    "colab": {
      "provenance": []
    },
    "kernelspec": {
      "display_name": "Python 3",
      "name": "python3"
    },
    "language_info": {
      "name": "python"
    }
  },
  "nbformat": 4,
  "nbformat_minor": 0
}